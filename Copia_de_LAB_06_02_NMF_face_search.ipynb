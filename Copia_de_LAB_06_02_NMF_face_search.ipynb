{
  "cells": [
    {
      "cell_type": "markdown",
      "metadata": {
        "id": "view-in-github",
        "colab_type": "text"
      },
      "source": [
        "<a href=\"https://colab.research.google.com/github/soyudea/Laboratorio_Modelo_Jesus_tamayo/blob/main/Copia_de_LAB_06_02_NMF_face_search.ipynb\" target=\"_parent\"><img src=\"https://colab.research.google.com/assets/colab-badge.svg\" alt=\"Open In Colab\"/></a>"
      ]
    },
    {
      "cell_type": "markdown",
      "metadata": {
        "id": "iOz-PWx0fqAw"
      },
      "source": [
        "# LAB 06.02 - NMF face search"
      ]
    },
    {
      "cell_type": "code",
      "execution_count": null,
      "metadata": {
        "id": "wh-CuItIfqA0",
        "colab": {
          "base_uri": "https://localhost:8080/",
          "height": 75
        },
        "outputId": "c7886299-78e6-48fe-f1d2-4504bce04471"
      },
      "outputs": [
        {
          "output_type": "display_data",
          "data": {
            "text/plain": [
              "<IPython.core.display.HTML object>"
            ],
            "text/html": [
              "\n",
              "<meta name=\"google-signin-client_id\"\n",
              "      content=\"461673936472-kdjosv61up3ac1ajeuq6qqu72upilmls.apps.googleusercontent.com\"/>\n",
              "<script src=\"https://apis.google.com/js/client:platform.js?onload=google_button_start\"></script>\n",
              "    "
            ]
          },
          "metadata": {}
        },
        {
          "output_type": "stream",
          "name": "stdout",
          "text": [
            "replicating local resources\n"
          ]
        },
        {
          "output_type": "execute_result",
          "data": {
            "text/plain": [
              "<IPython.core.display.HTML object>"
            ],
            "text/html": [
              "<h3>See <a href='https://m5knaekxo6.execute-api.us-west-2.amazonaws.com/dev-v0001/rlxmooc/web/login' target='_blank'>my courses and progress</a></h2>"
            ]
          },
          "metadata": {},
          "execution_count": 1
        }
      ],
      "source": [
        "!wget --no-cache -O init.py -q https://raw.githubusercontent.com/rramosp/ai4eng.v1/main/content/init.py\n",
        "import init; init.init(force_download=False); init.get_weblink()\n"
      ]
    },
    {
      "cell_type": "code",
      "execution_count": null,
      "metadata": {
        "id": "5nhNmIEEfqA1",
        "colab": {
          "base_uri": "https://localhost:8080/",
          "height": 74,
          "referenced_widgets": [
            "010904b5104a47e794e3a62d31c640ee",
            "c1894a01f52f4b818881e92d2a755b67",
            "4610972551a7417e9185709723c46b3e",
            "99503d4fc7ba4f68a85abb5fd0fe6a11",
            "5f16562a86114c619d401cca1cf5cebe",
            "2b2e3c4d6e9740618ca22acb84f5aef4",
            "c7cdc04b9b70421484467db52f91aabb",
            "32dbec0aa099460b837427cae7894592",
            "f4a3c6cdb47148cc8cc9d1a842c2de9d",
            "e5830e3689414ee58b49bc0c86270285",
            "04835722971d47089a0037ac54485bd4",
            "3b4dedde7a5542679781b8d69a00c5f7",
            "8b12b2a7279d49c9ad8aadfa4be21fc1",
            "8311ec3d98f442ab97f8303116dbc254",
            "8768c595e3964cca95d395478e1549da",
            "a6a7fb6377464ef3930fb8e5f9409708",
            "f6de869e265442c4b0bcb12b0ef91661",
            "7b92ceb86a9142e7ba7dc2b11c88623a",
            "07fb12c1bc4f4399a2474bbab0448f57"
          ]
        },
        "outputId": "894af65c-0347-46ec-840e-ba3bc95a4df7"
      },
      "outputs": [
        {
          "output_type": "stream",
          "name": "stdout",
          "text": [
            "logging in as omara.torres@udea.edu.co ... please wait\n",
            "using course session ai4eng.v1.udea.r2::2023.1\n",
            "success!! you are logged in\n"
          ]
        }
      ],
      "source": [
        "from local.lib.rlxmoocapi import submit, session\n",
        "session.LoginSequence(endpoint=init.endpoint, course_id=init.course_id, lab_id=\"L06.02\", varname=\"student\");"
      ]
    },
    {
      "cell_type": "markdown",
      "metadata": {
        "id": "l1pAYwVMfqA1"
      },
      "source": [
        "## Dataset\n",
        "\n",
        "we will use the faces dataset"
      ]
    },
    {
      "cell_type": "code",
      "execution_count": null,
      "metadata": {
        "id": "PW8XrDaefqA1"
      },
      "outputs": [],
      "source": [
        "import pandas as pd\n",
        "import numpy as np\n",
        "import matplotlib.pyplot as plt\n",
        "from IPython.display import Image\n",
        "%matplotlib inline"
      ]
    },
    {
      "cell_type": "code",
      "execution_count": null,
      "metadata": {
        "id": "Rj4dC21hfqA2",
        "outputId": "13699410-6fa1-45d1-b85e-8447306914c6",
        "colab": {
          "base_uri": "https://localhost:8080/"
        }
      },
      "outputs": [
        {
          "output_type": "execute_result",
          "data": {
            "text/plain": [
              "(535, 361)"
            ]
          },
          "metadata": {},
          "execution_count": 3
        }
      ],
      "source": [
        "\n",
        "import numpy as np\n",
        "faces = np.load(\"local/data/faces.npy\")\n",
        "faces.shape\n"
      ]
    },
    {
      "cell_type": "code",
      "execution_count": null,
      "metadata": {
        "id": "_6y3jXuYfqA2"
      },
      "outputs": [],
      "source": [
        "def plot_faces(faces):\n",
        "    assert len(faces)<=30, \"can only plot at most 30 faces\"\n",
        "    plt.figure(figsize=(15,2))\n",
        "    for i in range(len(faces)):\n",
        "        plt.subplot(2,15,i+1)\n",
        "        plt.imshow(faces[i].reshape(19,19), cmap=plt.cm.Greys_r)\n",
        "        plt.xticks([]); plt.yticks([])"
      ]
    },
    {
      "cell_type": "code",
      "execution_count": null,
      "metadata": {
        "id": "1CZRpKwRfqA3",
        "outputId": "93a3eda4-78ab-4208-b8f9-ab7970336250",
        "colab": {
          "base_uri": "https://localhost:8080/",
          "height": 186
        }
      },
      "outputs": [
        {
          "output_type": "display_data",
          "data": {
            "text/plain": [
              "<Figure size 1500x200 with 30 Axes>"
            ],
            "image/png": "[encoded data removed]"
          },
          "metadata": {}
        }
      ],
      "source": [
        "\n",
        "plot_faces(np.random.permutation(faces)[:30])\n"
      ]
    },
    {
      "cell_type": "markdown",
      "metadata": {
        "id": "d68jQiGyfqA3"
      },
      "source": [
        "## Task 1: Distance function for a vector\n",
        "\n",
        "complete the following function so that given a vector $v \\in \\mathbb{R}^n$ and a `numpy` array $X \\in \\mathbb{R}^{m\\times n}$ (whose rows are vectors of the same size as $v$) returns a new array $\\in \\mathbb{R}^m$ with the Euclidean distance between $v$ and each vector in $X$.\n",
        "\n",
        "Recall that the Euclidean distance between vectors $z=[z_0,...z_{n-1}]$ and $w=[w_0,...,w_{n-1}]$ is given by\n",
        "\n",
        "$$\\text{distance}(z,w) = \\sqrt{\\sum_{i=0}^{n-1} (z_i-w_i)^2}$$\n",
        "\n",
        "\n",
        "**hint**: use [`np.linalg.norm`](https://numpy.org/doc/stable/reference/generated/numpy.linalg.norm.html) to compute a distance between two vectors\n",
        "\n",
        "**challenge**: solve it using one line of code.\n",
        "\n",
        "**note**: your function must return a 1D numpy array of dimension $m$, not a list.\n",
        "\n",
        "for instance, for the following values of $v$ and $X$\n",
        "\n",
        "    X = array([[9, 5, 1, 3, 8, 3, 3, 3, 9, 2],\n",
        "               [9, 7, 0, 7, 9, 1, 4, 7, 3, 6],\n",
        "               [8, 0, 0, 5, 0, 5, 5, 1, 1, 5],\n",
        "               [8, 2, 9, 5, 6, 0, 8, 7, 2, 8],\n",
        "               [0, 6, 3, 0, 6, 6, 1, 2, 8, 0]])\n",
        "                  \n",
        "    v = np.array([9, 7, 0, 7, 9, 1, 4, 7, 3, 6])\n",
        "\n",
        "\n",
        "you should get the following result\n",
        "\n",
        "    array([ 9.74679434,  0.        , 13.89244399, 11.91637529, 16.40121947])\n"
      ]
    },
    {
      "cell_type": "code",
      "source": [
        "from numpy import linalg as LA\n",
        "#x = np.array([[11, 12, 5], [15, 6,10], [10, 8, 12], [12,15,8], [34, 78, 90]]) \n",
        "#norm = LA.norm(x,axis= 0) \n",
        "#norm\n",
        "X = np.array([[9, 5, 1, 3, 8, 3, 3, 3, 9, 2],\n",
        "           [9, 7, 0, 7, 9, 1, 4, 7, 3, 6],\n",
        "           [8, 0, 0, 5, 0, 5, 5, 1, 1, 5],\n",
        "           [8, 2, 9, 5, 6, 0, 8, 7, 2, 8],\n",
        "           [0, 6, 3, 0, 6, 6, 1, 2, 8, 0]])\n",
        "v = np.array([9, 7, 0, 7, 9, 1, 4, 7, 3, 6])\n",
        "\n",
        "D = X-v\n",
        "D\n",
        "norma = LA.norm(D, axis=1)\n",
        "norma\n",
        "\n"
      ],
      "metadata": {
        "colab": {
          "base_uri": "https://localhost:8080/"
        },
        "id": "O4ttkDb7gfhW",
        "outputId": "563f4eff-8065-4568-b0e3-96a35319a998"
      },
      "execution_count": null,
      "outputs": [
        {
          "output_type": "execute_result",
          "data": {
            "text/plain": [
              "array([ 9.74679434,  0.        , 13.89244399, 11.91637529, 16.40121947])"
            ]
          },
          "metadata": {},
          "execution_count": 6
        }
      ]
    },
    {
      "cell_type": "code",
      "execution_count": null,
      "metadata": {
        "id": "qlegHvkpfqA4"
      },
      "outputs": [],
      "source": [
        "def distances(v, X):\n",
        "    from numpy import linalg as LA\n",
        "    result = LA.norm((X-v), axis=1)\n",
        "    return result"
      ]
    },
    {
      "cell_type": "markdown",
      "metadata": {
        "id": "X6MqKHpafqA4"
      },
      "source": [
        "check manually your code"
      ]
    },
    {
      "cell_type": "code",
      "execution_count": null,
      "metadata": {
        "scrolled": true,
        "id": "9U3gOqDRfqA4",
        "colab": {
          "base_uri": "https://localhost:8080/"
        },
        "outputId": "13f450df-ff47-4bed-a131-b691d2333208"
      },
      "outputs": [
        {
          "output_type": "stream",
          "name": "stdout",
          "text": [
            "X=\n",
            " [[5 9 7 3 2 9 3 2 0 8]\n",
            " [1 7 0 0 7 5 6 5 7 1]\n",
            " [9 5 4 3 7 9 1 0 8 6]\n",
            " [1 2 5 1 7 2 0 2 1 6]\n",
            " [4 3 0 6 7 5 8 3 2 7]]\n",
            "\n",
            "v= [1 7 0 0 7 5 6 5 7 1]\n"
          ]
        },
        {
          "output_type": "execute_result",
          "data": {
            "text/plain": [
              "array([15.32970972,  0.        , 13.60147051, 12.88409873, 11.40175425])"
            ]
          },
          "metadata": {},
          "execution_count": 9
        }
      ],
      "source": [
        "X = np.random.randint(10, size=(5,10))\n",
        "v = X[1]\n",
        "\n",
        "print (\"X=\\n\", X)\n",
        "print (\"\\nv=\", v)\n",
        "distances(v, X)"
      ]
    },
    {
      "cell_type": "markdown",
      "metadata": {
        "id": "n7gM8IEKfqA4"
      },
      "source": [
        "**submit your code**"
      ]
    },
    {
      "cell_type": "code",
      "execution_count": null,
      "metadata": {
        "scrolled": true,
        "id": "wv2sc4ikfqA5",
        "colab": {
          "base_uri": "https://localhost:8080/",
          "height": 163
        },
        "outputId": "d7b0c734-6634-42d8-8109-09245728e78c"
      },
      "outputs": [
        {
          "output_type": "display_data",
          "data": {
            "text/plain": [
              "<IPython.core.display.HTML object>"
            ],
            "text/html": [
              "\n",
              "                    <b>task_01 submitted.</b> <b><font color=\"blue\">your grade is 5</font></b> \n",
              "                    <p/><pre>----- grader message -------</pre><br/>testing with 100 random calls<br/><br/><b>correct</b><pre>----------------------------</pre>\n",
              "                    <p/><p/>\n",
              "                    <div style=\"font-size:10px\"><b>SUBMISSION CODE</b> 7u48lcagBME3MstoiEsaLU2zoLH5jySCEnSU9ZLFnr75cBIRSZQmDcfqPOeE9VTZrn0gC2DICAbHM4Ri+YpgU4FIUwcZ7ktwQiOfGfatAIgZ0LOGI0xCEFaJD/1jDeHI5GJtuEa3tbRM2EjfKNDhF9CM5eDHsQ3aHJBF0UAs/4M=</div>\n",
              "                    "
            ]
          },
          "metadata": {}
        }
      ],
      "source": [
        "student.submit_task(globals(), task_id=\"task_01\");"
      ]
    },
    {
      "cell_type": "markdown",
      "metadata": {
        "id": "VnJGtFs3fqA5"
      },
      "source": [
        "## Task 2: Positions of closest vectors\n",
        "\n",
        "complete the following function so that given $v$ and $X$ as previously, returns the positions of the $n$ closest vectors to $v$ in $X$.\n",
        "\n",
        "**hint**: use the [`np.argsort`](https://numpy.org/doc/stable/reference/generated/numpy.argsort.html) function\n",
        "\n",
        "**challenge**: solve it using one line of code\n",
        "\n",
        "for the example $v$ and $X$ above you should get the following outputs\n",
        "\n",
        "    >> closest(v, X, 2)\n",
        "    array([1, 0])\n",
        "\n",
        "    >> closest(v, X, 3)\n",
        "    array([1, 0, 3])\n"
      ]
    },
    {
      "cell_type": "code",
      "execution_count": null,
      "metadata": {
        "id": "6dLD2kr-fqA5"
      },
      "outputs": [],
      "source": [
        "def closest(v, X, n): \n",
        "    lista = []\n",
        "    from numpy import linalg as LA\n",
        "    assert n<len(X), \"n must at most the number of vectors in X\"\n",
        "    norma = LA.norm((X-v), axis=1)\n",
        "    aux =  np.argsort(norma)\n",
        "    for i in range(n):\n",
        "       lista.append(aux[i])\n",
        "    result = np.array(lista)\n",
        "    return result"
      ]
    },
    {
      "cell_type": "markdown",
      "metadata": {
        "id": "HsXdZQw7fqA5"
      },
      "source": [
        "check manually your code"
      ]
    },
    {
      "cell_type": "code",
      "execution_count": null,
      "metadata": {
        "id": "xnBImyNbfqA6",
        "colab": {
          "base_uri": "https://localhost:8080/"
        },
        "outputId": "148f1f53-03b1-4108-ab52-a958eef854b3"
      },
      "outputs": [
        {
          "output_type": "stream",
          "name": "stdout",
          "text": [
            "X=\n",
            " [[3 9 6 3 0 3 2 6 7 4]\n",
            " [4 8 6 4 6 8 3 1 4 8]\n",
            " [7 2 2 2 4 1 3 6 3 9]\n",
            " [1 4 5 3 5 5 1 7 9 0]\n",
            " [2 5 4 3 9 2 4 5 5 2]]\n",
            "\n",
            "v= [4 8 6 4 6 8 3 1 4 8] \n",
            "\n",
            "\n",
            "[1 0]\n",
            "[1 0 4]\n"
          ]
        }
      ],
      "source": [
        "X = np.random.randint(10, size=(5,10))\n",
        "v = X[1]\n",
        "\n",
        "print (\"X=\\n\", X)\n",
        "print (\"\\nv=\", v,\"\\n\\n\")\n",
        "print (closest(v, X, 2))\n",
        "print (closest(v, X, 3))"
      ]
    },
    {
      "cell_type": "markdown",
      "metadata": {
        "id": "BUPz60y7fqA6"
      },
      "source": [
        "### observe now how we can use your functions to search for faces similar to any other face"
      ]
    },
    {
      "cell_type": "code",
      "execution_count": null,
      "metadata": {
        "id": "9TOTimkcfqA6",
        "outputId": "793d45b1-67ae-4a97-d628-a3ae7a906da7",
        "colab": {
          "base_uri": "https://localhost:8080/",
          "height": 158
        }
      },
      "outputs": [
        {
          "output_type": "stream",
          "name": "stdout",
          "text": [
            "TARGET FACE\n"
          ]
        },
        {
          "output_type": "display_data",
          "data": {
            "text/plain": [
              "<Figure size 100x100 with 1 Axes>"
            ],
            "image/png": "[encoded data removed]"
          },
          "metadata": {}
        }
      ],
      "source": [
        "\n",
        "plt.figure(figsize=(1,1))\n",
        "fi = 314 # np.random.randint(len(faces)) # 314 \n",
        "face = faces[fi]\n",
        "plt.imshow(faces[fi].reshape(19,19), cmap=plt.cm.Greys_r)\n",
        "print (\"TARGET FACE\")\n"
      ]
    },
    {
      "cell_type": "code",
      "execution_count": null,
      "metadata": {
        "id": "iCviKUkHfqA6",
        "outputId": "dafe90f6-9225-4bd1-949e-d418c4ebe8ed",
        "colab": {
          "base_uri": "https://localhost:8080/",
          "height": 203
        }
      },
      "outputs": [
        {
          "output_type": "stream",
          "name": "stdout",
          "text": [
            "SIMILAR FACES\n"
          ]
        },
        {
          "output_type": "display_data",
          "data": {
            "text/plain": [
              "<Figure size 1500x200 with 30 Axes>"
            ],
            "image/png": "[encoded data removed]"
          },
          "metadata": {}
        }
      ],
      "source": [
        "\n",
        "plot_faces(faces[closest(face, faces, 30)])\n",
        "print (\"SIMILAR FACES\")\n"
      ]
    },
    {
      "cell_type": "markdown",
      "metadata": {
        "id": "F25QsUyQfqA6"
      },
      "source": [
        "But they do not look so similar, this is because we are doing comparison **pixel by pixel**. We will fix this in the next task"
      ]
    },
    {
      "cell_type": "code",
      "execution_count": null,
      "metadata": {
        "id": "EwFBcDgPfqA6"
      },
      "outputs": [],
      "source": []
    },
    {
      "cell_type": "markdown",
      "metadata": {
        "id": "DChoNPtqfqA6"
      },
      "source": [
        "**submit your code**"
      ]
    },
    {
      "cell_type": "code",
      "execution_count": null,
      "metadata": {
        "scrolled": false,
        "id": "cod5upX7fqA6",
        "colab": {
          "base_uri": "https://localhost:8080/",
          "height": 163
        },
        "outputId": "3efeb4d4-4b05-4747-9552-d22527edabfe"
      },
      "outputs": [
        {
          "output_type": "display_data",
          "data": {
            "text/plain": [
              "<IPython.core.display.HTML object>"
            ],
            "text/html": [
              "\n",
              "                    <b>task_02 submitted.</b> <b><font color=\"blue\">your grade is 5</font></b> \n",
              "                    <p/><pre>----- grader message -------</pre><br/>testing with 100 random calls<br/><br/><b>correct</b><pre>----------------------------</pre>\n",
              "                    <p/><p/>\n",
              "                    <div style=\"font-size:10px\"><b>SUBMISSION CODE</b> 55ic2lA3be4T8DektqYrf2LFTE8ymhjgVSeS/sxgR4ElhVBTYZr2E8AguVhm4CrC0LI6I2e8yLmM8AmCDRwOzAAiYhpy5QF2/wNZq7uyUcnMIn39hsdfgJQoB5kZgPbf7NqMe6o/JAWxzRt1apjzI/zY83wHSWBBRxfbzT0xQaQ=</div>\n",
              "                    "
            ]
          },
          "metadata": {}
        }
      ],
      "source": [
        "student.submit_task(globals(), task_id=\"task_02\");"
      ]
    },
    {
      "cell_type": "code",
      "execution_count": null,
      "metadata": {
        "id": "CT0NKuoWfqA7"
      },
      "outputs": [],
      "source": []
    },
    {
      "cell_type": "markdown",
      "metadata": {
        "id": "bwdj2KscfqA7"
      },
      "source": [
        "## Task 3: Use NMF to find similar faces\n",
        "\n",
        "Make the comparison in the faces space resulting from transforming them using NMF. For this you have to:\n",
        "\n",
        "- create an instance of NMF with `n_components=30, init=\"random\", random_state=0`\n",
        "- fit the instance with $X$\n",
        "- transform $X$\n",
        "- transform $v$\n",
        "- return the positions of closest $n$ vectors in the transformed $X$ to the transformed $v$\n",
        "\n",
        "For the target face above, you should get the following"
      ]
    },
    {
      "cell_type": "code",
      "execution_count": null,
      "metadata": {
        "id": "WsPlUNiwfqA7",
        "outputId": "2d72e5d9-f262-4705-9c81-80ae00db8275",
        "colab": {
          "base_uri": "https://localhost:8080/",
          "height": 141
        }
      },
      "outputs": [
        {
          "output_type": "execute_result",
          "data": {
            "image/png": "[encoded data removed]",
            "text/plain": [
              "<IPython.core.display.Image object>"
            ]
          },
          "metadata": {},
          "execution_count": 84
        }
      ],
      "source": [
        "\n",
        "from IPython.display import Image\n",
        "Image(filename='local/imgs/similar-images2.png')\n"
      ]
    },
    {
      "cell_type": "code",
      "source": [
        "def closest(v, X, n): \n",
        "    lista = []\n",
        "    from numpy import linalg as LA\n",
        "    assert n<len(X), \"n must at most the number of vectors in X\"\n",
        "    norma = LA.norm((X-v), axis=1)\n",
        "    aux =  np.argsort(norma)\n",
        "    for i in range(n):\n",
        "       lista.append(aux[i])\n",
        "    result = np.array(lista)\n",
        "    return result"
      ],
      "metadata": {
        "id": "czjzN_v03uF5"
      },
      "execution_count": null,
      "outputs": []
    },
    {
      "cell_type": "code",
      "execution_count": null,
      "metadata": {
        "id": "TE8QtcLafqA7"
      },
      "outputs": [],
      "source": [
        "def find_similar(v,X,n):\n",
        "    from sklearn.decomposition import NMF\n",
        "    from numpy import linalg as LA\n",
        "    \n",
        "    nmf = NMF(n_components=30, init=\"random\", random_state=0)\n",
        "    nmf = nmf.fit(X)\n",
        "    Xt = nmf.transform(X)\n",
        "    vt = nmf.transform(v.reshape(1,-1)) # use nmf to transform v .. you will have to use reshape like this v.reshape(1,-1)\n",
        "\n",
        "    def closest(v, X, n): \n",
        "       lista =[]\n",
        "       assert n<len(X), \"n must at most the number of vectors in X\"\n",
        "       norma = LA.norm((X-v), axis=1)\n",
        "       aux =  np.argsort(norma)\n",
        "       for i in range(n):\n",
        "           lista.append(aux[i])\n",
        "       result = np.array(lista) \n",
        "       return result   \n",
        "       \n",
        "    result =(closest(vt, Xt,n))\n",
        "    return result"
      ]
    },
    {
      "cell_type": "markdown",
      "metadata": {
        "id": "adiFlhBafqA7"
      },
      "source": [
        "check manually your answer"
      ]
    },
    {
      "cell_type": "code",
      "execution_count": null,
      "metadata": {
        "id": "zagEyeFXfqA7",
        "outputId": "32d9dbbf-e370-41da-bb49-dd7d308da6bf",
        "colab": {
          "base_uri": "https://localhost:8080/",
          "height": 221
        }
      },
      "outputs": [
        {
          "output_type": "stream",
          "name": "stderr",
          "text": [
            "/usr/local/lib/python3.9/dist-packages/sklearn/decomposition/_nmf.py:1665: ConvergenceWarning: Maximum number of iterations 200 reached. Increase it to improve convergence.\n",
            "  warnings.warn(\n"
          ]
        },
        {
          "output_type": "display_data",
          "data": {
            "text/plain": [
              "<Figure size 1500x200 with 30 Axes>"
            ],
            "image/png": "[encoded data removed]"
          },
          "metadata": {}
        }
      ],
      "source": [
        "plot_faces(faces[find_similar(face, faces, 30)])"
      ]
    },
    {
      "cell_type": "markdown",
      "metadata": {
        "id": "IZEBFtaEfqA7"
      },
      "source": [
        "**submit your code**"
      ]
    },
    {
      "cell_type": "code",
      "execution_count": null,
      "metadata": {
        "scrolled": false,
        "id": "6RyB8hCsfqA7",
        "colab": {
          "base_uri": "https://localhost:8080/",
          "height": 163
        },
        "outputId": "088d8e26-b139-4ca7-96b5-ac480097f366"
      },
      "outputs": [
        {
          "output_type": "display_data",
          "data": {
            "text/plain": [
              "<IPython.core.display.HTML object>"
            ],
            "text/html": [
              "\n",
              "                    <b>task_03 submitted.</b> <b><font color=\"blue\">your grade is 5</font></b> \n",
              "                    <p/><pre>----- grader message -------</pre><br/>testing with 100 random calls<br/><br/><b>correct</b><pre>----------------------------</pre>\n",
              "                    <p/><p/>\n",
              "                    <div style=\"font-size:10px\"><b>SUBMISSION CODE</b> lpWzUDJcB5ufcFbxk/FQC7LdSiAATJNJ4mClhXxYnYdO9+ng3Bn5P05vfzkMwtH5gln+52+hi3UlkwcgPcwoiFEq5iVn/WfdV0t/9zpzM/xja+pCAKh7K4nnKytGF2TqXndj7jQ3UGj3xRWej21T+P/z8BhwAiZPFkLsJEX3HNY=</div>\n",
              "                    "
            ]
          },
          "metadata": {}
        }
      ],
      "source": [
        "student.submit_task(globals(), task_id=\"task_03\");"
      ]
    },
    {
      "cell_type": "code",
      "execution_count": null,
      "metadata": {
        "id": "H3vzOY1ifqA8"
      },
      "outputs": [],
      "source": []
    },
    {
      "cell_type": "code",
      "execution_count": null,
      "metadata": {
        "id": "FXgSqpOcfqA8"
      },
      "outputs": [],
      "source": []
    }
  ],
  "metadata": {
    "kernelspec": {
      "display_name": "Python 3",
      "language": "python",
      "name": "python3"
    },
    "language_info": {
      "codemirror_mode": {
        "name": "ipython",
        "version": 3
      },
      "file_extension": ".py",
      "mimetype": "text/x-python",
      "name": "python",
      "nbconvert_exporter": "python",
      "pygments_lexer": "ipython3",
      "version": "3.7.3"
    },
    "colab": {
      "provenance": [],
      "include_colab_link": true
    },
    "widgets": {
      "application/vnd.jupyter.widget-state+json": {
        "010904b5104a47e794e3a62d31c640ee": {
          "model_module": "@jupyter-widgets/controls",
          "model_name": "HBoxModel",
          "model_module_version": "1.5.0",
          "state": {
            "_dom_classes": [],
            "_model_module": "@jupyter-widgets/controls",
            "_model_module_version": "1.5.0",
            "_model_name": "HBoxModel",
            "_view_count": null,
            "_view_module": "@jupyter-widgets/controls",
            "_view_module_version": "1.5.0",
            "_view_name": "HBoxView",
            "box_style": "",
            "children": [
              "IPY_MODEL_c1894a01f52f4b818881e92d2a755b67",
              "IPY_MODEL_4610972551a7417e9185709723c46b3e",
              "IPY_MODEL_99503d4fc7ba4f68a85abb5fd0fe6a11",
              "IPY_MODEL_5f16562a86114c619d401cca1cf5cebe"
            ],
            "layout": "IPY_MODEL_2b2e3c4d6e9740618ca22acb84f5aef4"
          }
        },
        "c1894a01f52f4b818881e92d2a755b67": {
          "model_module": "@jupyter-widgets/controls",
          "model_name": "VBoxModel",
          "model_module_version": "1.5.0",
          "state": {
            "_dom_classes": [],
            "_model_module": "@jupyter-widgets/controls",
            "_model_module_version": "1.5.0",
            "_model_name": "VBoxModel",
            "_view_count": null,
            "_view_module": "@jupyter-widgets/controls",
            "_view_module_version": "1.5.0",
            "_view_name": "VBoxView",
            "box_style": "",
            "children": [
              "IPY_MODEL_c7cdc04b9b70421484467db52f91aabb",
              "IPY_MODEL_32dbec0aa099460b837427cae7894592"
            ],
            "layout": "IPY_MODEL_f4a3c6cdb47148cc8cc9d1a842c2de9d"
          }
        },
        "4610972551a7417e9185709723c46b3e": {
          "model_module": "@jupyter-widgets/controls",
          "model_name": "ButtonModel",
          "model_module_version": "1.5.0",
          "state": {
            "_dom_classes": [
              "login_button"
            ],
            "_model_module": "@jupyter-widgets/controls",
            "_model_module_version": "1.5.0",
            "_model_name": "ButtonModel",
            "_view_count": null,
            "_view_module": "@jupyter-widgets/controls",
            "_view_module_version": "1.5.0",
            "_view_name": "ButtonView",
            "button_style": "",
            "description": "Login with email",
            "disabled": false,
            "icon": "",
            "layout": "IPY_MODEL_e5830e3689414ee58b49bc0c86270285",
            "style": "IPY_MODEL_04835722971d47089a0037ac54485bd4",
            "tooltip": ""
          }
        },
        "99503d4fc7ba4f68a85abb5fd0fe6a11": {
          "model_module": "@jupyter-widgets/controls",
          "model_name": "HTMLModel",
          "model_module_version": "1.5.0",
          "state": {
            "_dom_classes": [],
            "_model_module": "@jupyter-widgets/controls",
            "_model_module_version": "1.5.0",
            "_model_name": "HTMLModel",
            "_view_count": null,
            "_view_module": "@jupyter-widgets/controls",
            "_view_module_version": "1.5.0",
            "_view_name": "HTMLView",
            "description": "",
            "description_tooltip": null,
            "layout": "IPY_MODEL_3b4dedde7a5542679781b8d69a00c5f7",
            "placeholder": "​",
            "style": "IPY_MODEL_8b12b2a7279d49c9ad8aadfa4be21fc1",
            "value": "<center><big>or</big></center>"
          }
        },
        "5f16562a86114c619d401cca1cf5cebe": {
          "model_module": "@jupyter-widgets/controls",
          "model_name": "ButtonModel",
          "model_module_version": "1.5.0",
          "state": {
            "_dom_classes": [
              "google_button"
            ],
            "_model_module": "@jupyter-widgets/controls",
            "_model_module_version": "1.5.0",
            "_model_name": "ButtonModel",
            "_view_count": null,
            "_view_module": "@jupyter-widgets/controls",
            "_view_module_version": "1.5.0",
            "_view_name": "ButtonView",
            "button_style": "",
            "description": "Login with Google",
            "disabled": false,
            "icon": "",
            "layout": "IPY_MODEL_8311ec3d98f442ab97f8303116dbc254",
            "style": "IPY_MODEL_8768c595e3964cca95d395478e1549da",
            "tooltip": ""
          }
        },
        "2b2e3c4d6e9740618ca22acb84f5aef4": {
          "model_module": "@jupyter-widgets/base",
          "model_name": "LayoutModel",
          "model_module_version": "1.2.0",
          "state": {
            "_model_module": "@jupyter-widgets/base",
            "_model_module_version": "1.2.0",
            "_model_name": "LayoutModel",
            "_view_count": null,
            "_view_module": "@jupyter-widgets/base",
            "_view_module_version": "1.2.0",
            "_view_name": "LayoutView",
            "align_content": null,
            "align_items": null,
            "align_self": null,
            "border": null,
            "bottom": null,
            "display": null,
            "flex": null,
            "flex_flow": null,
            "grid_area": null,
            "grid_auto_columns": null,
            "grid_auto_flow": null,
            "grid_auto_rows": null,
            "grid_column": null,
            "grid_gap": null,
            "grid_row": null,
            "grid_template_areas": null,
            "grid_template_columns": null,
            "grid_template_rows": null,
            "height": null,
            "justify_content": null,
            "justify_items": null,
            "left": null,
            "margin": null,
            "max_height": null,
            "max_width": null,
            "min_height": null,
            "min_width": null,
            "object_fit": null,
            "object_position": null,
            "order": null,
            "overflow": null,
            "overflow_x": null,
            "overflow_y": null,
            "padding": null,
            "right": null,
            "top": null,
            "visibility": null,
            "width": null
          }
        },
        "c7cdc04b9b70421484467db52f91aabb": {
          "model_module": "@jupyter-widgets/controls",
          "model_name": "TextModel",
          "model_module_version": "1.5.0",
          "state": {
            "_dom_classes": [],
            "_model_module": "@jupyter-widgets/controls",
            "_model_module_version": "1.5.0",
            "_model_name": "TextModel",
            "_view_count": null,
            "_view_module": "@jupyter-widgets/controls",
            "_view_module_version": "1.5.0",
            "_view_name": "TextView",
            "continuous_update": true,
            "description": "email",
            "description_tooltip": null,
            "disabled": false,
            "layout": "IPY_MODEL_a6a7fb6377464ef3930fb8e5f9409708",
            "placeholder": "​",
            "style": "IPY_MODEL_f6de869e265442c4b0bcb12b0ef91661",
            "value": "omara.torres@udea.edu.co"
          }
        },
        "32dbec0aa099460b837427cae7894592": {
          "model_module": "@jupyter-widgets/controls",
          "model_name": "PasswordModel",
          "model_module_version": "1.5.0",
          "state": {
            "_dom_classes": [],
            "_model_module": "@jupyter-widgets/controls",
            "_model_module_version": "1.5.0",
            "_model_name": "PasswordModel",
            "_view_count": null,
            "_view_module": "@jupyter-widgets/controls",
            "_view_module_version": "1.5.0",
            "_view_name": "PasswordView",
            "continuous_update": true,
            "description": "password",
            "description_tooltip": null,
            "disabled": false,
            "layout": "IPY_MODEL_7b92ceb86a9142e7ba7dc2b11c88623a",
            "placeholder": "​",
            "style": "IPY_MODEL_07fb12c1bc4f4399a2474bbab0448f57",
            "value": "yeveja23"
          }
        },
        "f4a3c6cdb47148cc8cc9d1a842c2de9d": {
          "model_module": "@jupyter-widgets/base",
          "model_name": "LayoutModel",
          "model_module_version": "1.2.0",
          "state": {
            "_model_module": "@jupyter-widgets/base",
            "_model_module_version": "1.2.0",
            "_model_name": "LayoutModel",
            "_view_count": null,
            "_view_module": "@jupyter-widgets/base",
            "_view_module_version": "1.2.0",
            "_view_name": "LayoutView",
            "align_content": null,
            "align_items": null,
            "align_self": null,
            "border": null,
            "bottom": null,
            "display": null,
            "flex": null,
            "flex_flow": null,
            "grid_area": null,
            "grid_auto_columns": null,
            "grid_auto_flow": null,
            "grid_auto_rows": null,
            "grid_column": null,
            "grid_gap": null,
            "grid_row": null,
            "grid_template_areas": null,
            "grid_template_columns": null,
            "grid_template_rows": null,
            "height": null,
            "justify_content": null,
            "justify_items": null,
            "left": null,
            "margin": null,
            "max_height": null,
            "max_width": null,
            "min_height": null,
            "min_width": null,
            "object_fit": null,
            "object_position": null,
            "order": null,
            "overflow": null,
            "overflow_x": null,
            "overflow_y": null,
            "padding": null,
            "right": null,
            "top": null,
            "visibility": null,
            "width": null
          }
        },
        "e5830e3689414ee58b49bc0c86270285": {
          "model_module": "@jupyter-widgets/base",
          "model_name": "LayoutModel",
          "model_module_version": "1.2.0",
          "state": {
            "_model_module": "@jupyter-widgets/base",
            "_model_module_version": "1.2.0",
            "_model_name": "LayoutModel",
            "_view_count": null,
            "_view_module": "@jupyter-widgets/base",
            "_view_module_version": "1.2.0",
            "_view_name": "LayoutView",
            "align_content": null,
            "align_items": null,
            "align_self": null,
            "border": null,
            "bottom": null,
            "display": null,
            "flex": null,
            "flex_flow": null,
            "grid_area": null,
            "grid_auto_columns": null,
            "grid_auto_flow": null,
            "grid_auto_rows": null,
            "grid_column": null,
            "grid_gap": null,
            "grid_row": null,
            "grid_template_areas": null,
            "grid_template_columns": null,
            "grid_template_rows": null,
            "height": "53px",
            "justify_content": null,
            "justify_items": null,
            "left": null,
            "margin": null,
            "max_height": null,
            "max_width": null,
            "min_height": null,
            "min_width": null,
            "object_fit": null,
            "object_position": null,
            "order": null,
            "overflow": null,
            "overflow_x": null,
            "overflow_y": null,
            "padding": null,
            "right": null,
            "top": null,
            "visibility": null,
            "width": "150px"
          }
        },
        "04835722971d47089a0037ac54485bd4": {
          "model_module": "@jupyter-widgets/controls",
          "model_name": "ButtonStyleModel",
          "model_module_version": "1.5.0",
          "state": {
            "_model_module": "@jupyter-widgets/controls",
            "_model_module_version": "1.5.0",
            "_model_name": "ButtonStyleModel",
            "_view_count": null,
            "_view_module": "@jupyter-widgets/base",
            "_view_module_version": "1.2.0",
            "_view_name": "StyleView",
            "button_color": null,
            "font_weight": ""
          }
        },
        "3b4dedde7a5542679781b8d69a00c5f7": {
          "model_module": "@jupyter-widgets/base",
          "model_name": "LayoutModel",
          "model_module_version": "1.2.0",
          "state": {
            "_model_module": "@jupyter-widgets/base",
            "_model_module_version": "1.2.0",
            "_model_name": "LayoutModel",
            "_view_count": null,
            "_view_module": "@jupyter-widgets/base",
            "_view_module_version": "1.2.0",
            "_view_name": "LayoutView",
            "align_content": null,
            "align_items": null,
            "align_self": null,
            "border": null,
            "bottom": null,
            "display": null,
            "flex": null,
            "flex_flow": null,
            "grid_area": null,
            "grid_auto_columns": null,
            "grid_auto_flow": null,
            "grid_auto_rows": null,
            "grid_column": null,
            "grid_gap": null,
            "grid_row": null,
            "grid_template_areas": null,
            "grid_template_columns": null,
            "grid_template_rows": null,
            "height": null,
            "justify_content": null,
            "justify_items": null,
            "left": null,
            "margin": null,
            "max_height": null,
            "max_width": null,
            "min_height": null,
            "min_width": null,
            "object_fit": null,
            "object_position": null,
            "order": null,
            "overflow": null,
            "overflow_x": null,
            "overflow_y": null,
            "padding": null,
            "right": null,
            "top": null,
            "visibility": null,
            "width": "100px"
          }
        },
        "8b12b2a7279d49c9ad8aadfa4be21fc1": {
          "model_module": "@jupyter-widgets/controls",
          "model_name": "DescriptionStyleModel",
          "model_module_version": "1.5.0",
          "state": {
            "_model_module": "@jupyter-widgets/controls",
            "_model_module_version": "1.5.0",
            "_model_name": "DescriptionStyleModel",
            "_view_count": null,
            "_view_module": "@jupyter-widgets/base",
            "_view_module_version": "1.2.0",
            "_view_name": "StyleView",
            "description_width": ""
          }
        },
        "8311ec3d98f442ab97f8303116dbc254": {
          "model_module": "@jupyter-widgets/base",
          "model_name": "LayoutModel",
          "model_module_version": "1.2.0",
          "state": {
            "_model_module": "@jupyter-widgets/base",
            "_model_module_version": "1.2.0",
            "_model_name": "LayoutModel",
            "_view_count": null,
            "_view_module": "@jupyter-widgets/base",
            "_view_module_version": "1.2.0",
            "_view_name": "LayoutView",
            "align_content": null,
            "align_items": null,
            "align_self": null,
            "border": null,
            "bottom": null,
            "display": null,
            "flex": null,
            "flex_flow": null,
            "grid_area": null,
            "grid_auto_columns": null,
            "grid_auto_flow": null,
            "grid_auto_rows": null,
            "grid_column": null,
            "grid_gap": null,
            "grid_row": null,
            "grid_template_areas": null,
            "grid_template_columns": null,
            "grid_template_rows": null,
            "height": "53px",
            "justify_content": null,
            "justify_items": null,
            "left": null,
            "margin": null,
            "max_height": null,
            "max_width": null,
            "min_height": null,
            "min_width": null,
            "object_fit": null,
            "object_position": null,
            "order": null,
            "overflow": null,
            "overflow_x": null,
            "overflow_y": null,
            "padding": null,
            "right": null,
            "top": null,
            "visibility": null,
            "width": "200px"
          }
        },
        "8768c595e3964cca95d395478e1549da": {
          "model_module": "@jupyter-widgets/controls",
          "model_name": "ButtonStyleModel",
          "model_module_version": "1.5.0",
          "state": {
            "_model_module": "@jupyter-widgets/controls",
            "_model_module_version": "1.5.0",
            "_model_name": "ButtonStyleModel",
            "_view_count": null,
            "_view_module": "@jupyter-widgets/base",
            "_view_module_version": "1.2.0",
            "_view_name": "StyleView",
            "button_color": null,
            "font_weight": ""
          }
        },
        "a6a7fb6377464ef3930fb8e5f9409708": {
          "model_module": "@jupyter-widgets/base",
          "model_name": "LayoutModel",
          "model_module_version": "1.2.0",
          "state": {
            "_model_module": "@jupyter-widgets/base",
            "_model_module_version": "1.2.0",
            "_model_name": "LayoutModel",
            "_view_count": null,
            "_view_module": "@jupyter-widgets/base",
            "_view_module_version": "1.2.0",
            "_view_name": "LayoutView",
            "align_content": null,
            "align_items": null,
            "align_self": null,
            "border": null,
            "bottom": null,
            "display": null,
            "flex": null,
            "flex_flow": null,
            "grid_area": null,
            "grid_auto_columns": null,
            "grid_auto_flow": null,
            "grid_auto_rows": null,
            "grid_column": null,
            "grid_gap": null,
            "grid_row": null,
            "grid_template_areas": null,
            "grid_template_columns": null,
            "grid_template_rows": null,
            "height": "25px",
            "justify_content": null,
            "justify_items": null,
            "left": null,
            "margin": null,
            "max_height": null,
            "max_width": null,
            "min_height": null,
            "min_width": null,
            "object_fit": null,
            "object_position": null,
            "order": null,
            "overflow": null,
            "overflow_x": null,
            "overflow_y": null,
            "padding": null,
            "right": null,
            "top": null,
            "visibility": null,
            "width": "300px"
          }
        },
        "f6de869e265442c4b0bcb12b0ef91661": {
          "model_module": "@jupyter-widgets/controls",
          "model_name": "DescriptionStyleModel",
          "model_module_version": "1.5.0",
          "state": {
            "_model_module": "@jupyter-widgets/controls",
            "_model_module_version": "1.5.0",
            "_model_name": "DescriptionStyleModel",
            "_view_count": null,
            "_view_module": "@jupyter-widgets/base",
            "_view_module_version": "1.2.0",
            "_view_name": "StyleView",
            "description_width": ""
          }
        },
        "7b92ceb86a9142e7ba7dc2b11c88623a": {
          "model_module": "@jupyter-widgets/base",
          "model_name": "LayoutModel",
          "model_module_version": "1.2.0",
          "state": {
            "_model_module": "@jupyter-widgets/base",
            "_model_module_version": "1.2.0",
            "_model_name": "LayoutModel",
            "_view_count": null,
            "_view_module": "@jupyter-widgets/base",
            "_view_module_version": "1.2.0",
            "_view_name": "LayoutView",
            "align_content": null,
            "align_items": null,
            "align_self": null,
            "border": null,
            "bottom": null,
            "display": null,
            "flex": null,
            "flex_flow": null,
            "grid_area": null,
            "grid_auto_columns": null,
            "grid_auto_flow": null,
            "grid_auto_rows": null,
            "grid_column": null,
            "grid_gap": null,
            "grid_row": null,
            "grid_template_areas": null,
            "grid_template_columns": null,
            "grid_template_rows": null,
            "height": "24px",
            "justify_content": null,
            "justify_items": null,
            "left": null,
            "margin": null,
            "max_height": null,
            "max_width": null,
            "min_height": null,
            "min_width": null,
            "object_fit": null,
            "object_position": null,
            "order": null,
            "overflow": null,
            "overflow_x": null,
            "overflow_y": null,
            "padding": null,
            "right": null,
            "top": null,
            "visibility": null,
            "width": "300px"
          }
        },
        "07fb12c1bc4f4399a2474bbab0448f57": {
          "model_module": "@jupyter-widgets/controls",
          "model_name": "DescriptionStyleModel",
          "model_module_version": "1.5.0",
          "state": {
            "_model_module": "@jupyter-widgets/controls",
            "_model_module_version": "1.5.0",
            "_model_name": "DescriptionStyleModel",
            "_view_count": null,
            "_view_module": "@jupyter-widgets/base",
            "_view_module_version": "1.2.0",
            "_view_name": "StyleView",
            "description_width": ""
          }
        }
      }
    }
  },
  "nbformat": 4,
  "nbformat_minor": 0
}