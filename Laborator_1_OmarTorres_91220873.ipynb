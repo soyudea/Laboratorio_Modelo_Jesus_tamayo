{
  "cells": [
    {
      "cell_type": "markdown",
      "metadata": {
        "id": "view-in-github",
        "colab_type": "text"
      },
      "source": [
        "<a href=\"https://colab.research.google.com/github/soyudea/Laboratorio_Modelo_Jesus_tamayo/blob/main/Laborator_1_OmarTorres_91220873.ipynb\" target=\"_parent\"><img src=\"https://colab.research.google.com/assets/colab-badge.svg\" alt=\"Open In Colab\"/></a>"
      ]
    },
    {
      "cell_type": "markdown",
      "metadata": {
        "id": "Ypd4WuxpWQU4"
      },
      "source": [
        "# Laboratorio 1 - Parte 1\n",
        "\n",
        "### Regresión polinomial múltiple\n",
        "\n",
        "### Universidad de Antioquia\n",
        "\n",
        "### Facultad de Ingeniería\n",
        "\n",
        "### Ingeniería de Sistemas\n",
        "\n",
        "### UdeA - Ude@\n",
        "\n",
        "#### Profesor: Ph. D. (c) Antonio Jesús Tamayo Herrera\n"
      ]
    },
    {
      "cell_type": "markdown",
      "metadata": {
        "id": "ytnKSoOLWQU8"
      },
      "source": [
        "### Estudiantes\n",
        "\n",
        "#### Nombre: Omar Alberto Torres\n",
        "\n",
        "#### Cédula: 91220873\n",
        "\n",
        "#### Nombre:\n",
        "\n",
        "#### Cédula:\n",
        "\n",
        "#### Nombre:\n",
        "\n",
        "#### Cédula:"
      ]
    },
    {
      "cell_type": "markdown",
      "metadata": {
        "id": "yy-VPDGNWQU9"
      },
      "source": [
        "## Guía del laboratorio\n",
        "\n",
        "En este archivo va a encontrar tanto celdas de código cómo celdas de texto con las instrucciones para desarrollar el laboratorio.\n",
        "\n",
        "Lea atentamente las instrucciones entregadas en las celdas de texto correspondientes y proceda con la solución de las preguntas planteadas.\n",
        "\n",
        "Nota: no olvide ir ejecutando las celdas de código de arriba hacia abajo para que no tenga errores de importación de librerías o por falta de definición de variables."
      ]
    },
    {
      "cell_type": "markdown",
      "metadata": {
        "id": "QyPZURB0WQU9"
      },
      "source": [
        "## Ejercicio 1\n",
        "\n",
        "A continuación se define la función sigmoidal. En la parte del código dónde está el comentario (Complete ...) debe escribir el código que permita calcular la salida de dicha función. Es decir, escriba una función en Python para la siguiente función matemática:\n",
        "\n",
        "$$ g(z) = \\frac{1}{1+e^{-z}} $$\n",
        "\n",
        "Realice la gráfica de la función sigmoidal para valores de $z$ entre $-5$ y $5$. La gráfica debe tener título y los correspondientes nombres de los ejes."
      ]
    },
    {
      "cell_type": "code",
      "execution_count": null,
      "metadata": {
        "colab": {
          "base_uri": "https://localhost:8080/",
          "height": 279
        },
        "id": "1R-uVJPsWQU-",
        "outputId": "b89d4742-66ae-48e3-f841-54812ae0b388"
      },
      "outputs": [
        {
          "output_type": "display_data",
          "data": {
            "text/plain": [
              "<Figure size 432x288 with 1 Axes>"
            ],
            "image/png": "[encoded data removed]"
          },
          "metadata": {
            "needs_background": "light"
          }
        }
      ],
      "source": [
        "import numpy as np\n",
        "import matplotlib.pyplot as plt\n",
        "from __future__ import division\n",
        "import math\n",
        "\n",
        "#Sigmoidal\n",
        "def sigmoidal(z):\n",
        "    return 1/(1+np.exp(-z))\n",
        "\n",
        "z =np.arange(-5,5,0.01)   \n",
        "y = sigmoidal(z)\n",
        "plt.plot(z,y)\n",
        "plt.xlabel(\"Rango [-5,5,0.5\")\n",
        "plt.ylabel(\"Funcion(z) = 1/(1 + exp(z)\")\n",
        "plt.show()"
      ]
    },
    {
      "cell_type": "code",
      "source": [],
      "metadata": {
        "id": "nti9O3oZx_eL"
      },
      "execution_count": null,
      "outputs": []
    },
    {
      "cell_type": "code",
      "source": [
        "X = np.array([[1,2],[3,4],[5,6]])\n",
        "y = np.array(np.ones([np.size(X, axis=0)]))\n",
        "d = np.size(X)\n",
        "w=np.zeros(d)\n",
        "\n",
        "w = w.reshape(np.size(w),1)\n",
        "y = y.reshape(np.size(y),1)\n",
        "w = np.zeros(5)\n",
        "w\n"
      ],
      "metadata": {
        "colab": {
          "base_uri": "https://localhost:8080/"
        },
        "id": "6ve6GLNQQoWD",
        "outputId": "d06d1cab-e0b2-4f48-8104-80c4ac7342f8"
      },
      "execution_count": null,
      "outputs": [
        {
          "output_type": "execute_result",
          "data": {
            "text/plain": [
              "array([0., 0., 0., 0., 0.])"
            ]
          },
          "metadata": {},
          "execution_count": 27
        }
      ]
    },
    {
      "cell_type": "markdown",
      "metadata": {
        "id": "7bza_ddAWQU_"
      },
      "source": [
        "## Ejercicio 2\n",
        "\n",
        "Analice los siguientes métodos a la luz de la teoría vista para los modelos de regresión polinomial múltiple. Una vez comprenda su funcionamiento, proceda a completar el código del método de gradiente descendente para el problema de regresión. En este método se le pide escribir el código de la regla de actualización de los parámetros del algorítmo de gradiente descedente: \n",
        "\n",
        "$$w_j(iter) = w_j(iter-1) - \\eta \\frac{\\partial E(w)}{\\partial w_j}$$ \n",
        "\n",
        "y además se pide graficar el error cuadrático \n",
        "medio (ECM) vs. las iteraciones del algorítmo. La gráfica debe llevar título y los correspondientes nombres de los ejes."
      ]
    },
    {
      "cell_type": "code",
      "source": [
        "a = np.ones((3,2))\n",
        "b = np.reshape(a,(2,3))\n",
        "print(b.T)"
      ],
      "metadata": {
        "colab": {
          "base_uri": "https://localhost:8080/"
        },
        "id": "wQv2KGmnmrZK",
        "outputId": "cdde861e-05a9-43a9-d4b1-0f451f55d090"
      },
      "execution_count": null,
      "outputs": [
        {
          "output_type": "stream",
          "name": "stdout",
          "text": [
            "[[1. 1.]\n",
            " [1. 1.]\n",
            " [1. 1.]]\n"
          ]
        }
      ]
    },
    {
      "cell_type": "code",
      "execution_count": null,
      "metadata": {
        "id": "8Qx5g_-BWQVA"
      },
      "outputs": [],
      "source": [
        "#Error cuadrático medio (criterio para el modelo de regresión polinomial)\n",
        "#El código recibe el valor estimado de y y el valor teorico Y\n",
        "def ECM(Y_est,Y):\n",
        "    N = np.size(Y)\n",
        "    ecm = sum((Y_est - Y)**2)/(2*N)\n",
        "    return ecm \n",
        "\n",
        "#Modelo Regresión Múltiple\n",
        "def regression(X, W):\n",
        "    Yest = np.dot(X,W)    #con np.dot se realiza el producto matricial. Aquí X es dim [Nxd] y W es dim [dx1]\n",
        "    return Yest           #La variable Yest contiene la salida de f(X,W)\n",
        "\n",
        "\n",
        "#Potencia de polinomio\n",
        "def potenciaPolinomio(X,grado):\n",
        "    \"\"\"\n",
        "    Este método permite aumentar la matriz (base de datos de entrenamiento)\n",
        "    de tal manera que se incluyan los términos con potencia mayores que 1\n",
        "    de acuerdo al parámetro grado (M) que pase el usuario.\n",
        "    \"\"\"\n",
        "    X2 = X\n",
        "    \n",
        "    if grado != 1:\n",
        "        for i in range(2,grado+1):\n",
        "            Xadd = X**i\n",
        "            X2 = np.concatenate((X2, Xadd), axis=1)\n",
        "    \n",
        "    return X2\n",
        "\n",
        "    \n",
        "#Gradiente descendente para regresión polinomial\n",
        "def gradiente_descendente(X,Y,grado,eta,iterations):\n",
        "    \"\"\"\n",
        "    params:\n",
        "    X: base de datos de entrenamiento (array de numpy)\n",
        "    Y: variable de salida (array de numpy)\n",
        "    grado: grado del polinomio (Natural mayor o igual a 1)\n",
        "    eta: tasa de aprendizaje para el algoritmo de gradiente descendente\n",
        "    (real mayor que cero. Ej: 0.001)\n",
        "    iterations: número de iteraciones del algoritmo de gradiente descendente\n",
        "    \"\"\"\n",
        "\n",
        "    #Se modifica la matriz de datos original de acuerdo al grado del polinomio ingresado para el modelo\n",
        "    X = potenciaPolinomio(X,grado)\n",
        "    \n",
        "    #X es la matriz de datos extendida. W es el vector de parámetros del modelo\n",
        "    #Extendemos la matriz\n",
        "\n",
        "    unos = np.array([np.ones(np.size(X,0))])\n",
        "   \n",
        "    #Concatenamos el vector de unos con la matriz X\n",
        "    X = np.concatenate((unos.T, X), axis=1)\n",
        "    X = X.reshape(np.size(X,0),np.size(X,1))  \n",
        "    \n",
        "    Y = Y.reshape(np.size(Y), 1)\n",
        "    \n",
        "    #Tomamos el número de variables del problema\n",
        "    d = np.size(X,1)  \n",
        "    \n",
        "    #Tomamos el número de muestras de la base de datos\n",
        "    N = np.size(X,0)\n",
        "    \n",
        "    #Inicializamos el vector de parámetros aleatoriamente\n",
        "    Want = np.zeros(d) #d\n",
        "    Want = Want.reshape(np.size(Want),1)\n",
        "    \n",
        "    eta = eta\n",
        "    \n",
        "    iteraciones = iterations\n",
        "    ecms = np.zeros(iteraciones)\n",
        "   \n",
        "    for iter in range(iteraciones):\n",
        "        error = ECM(regression(X,Want),Y)\n",
        "        ecms[iter] = error\n",
        "        #Aquí debe completar el código con la regla de actualización de los\n",
        "        #parámetros W. Tenga en cuenta los nombres de las variables ya creadas:\n",
        "        #Want, X, Y\n",
        "        #Nota: si usa la notación matricial esto puede hacerse en dos líneas de\n",
        "        #código.\n",
        "        \n",
        "\n",
        "    \n",
        "    W = Want  \n",
        "    print ('Vector de parámetros del modelo:\\n')\n",
        "    print ('\\nError Final = ' + str(np.min(ecms)))\n",
        "    \n",
        "    #Aquí debe completar el código para realizar la gráfica de ecms vs. iteraciones\n",
        "    #ecms en el eje de las ordenadas (vertical); iteraciones en el eje de las abscisas.\n",
        "   # plt.scatter(X,Y)\n",
        "   # plt.show()\n",
        "    return W\n",
        "\n",
        "\n",
        "    "
      ]
    },
    {
      "cell_type": "code",
      "source": [
        "unos = np.array([np.ones(np.size(X,0))])\n",
        "print(np.size(X,0))\n",
        "print(unos)"
      ],
      "metadata": {
        "colab": {
          "base_uri": "https://localhost:8080/"
        },
        "id": "D5GtaPu9Pmel",
        "outputId": "6243580d-3b5c-4655-f7b3-69b292783447"
      },
      "execution_count": null,
      "outputs": [
        {
          "output_type": "stream",
          "name": "stdout",
          "text": [
            "3\n",
            "[[1. 1. 1.]]\n"
          ]
        }
      ]
    },
    {
      "cell_type": "markdown",
      "metadata": {
        "id": "JUDKRdP9WQVB"
      },
      "source": [
        "## Ejercicio 3\n",
        "\n",
        "A continuación, se leen los datos de un problema de regresión que consiste en predecir el valor de la variable denominada total_UPDRS. Este conjunto de datos está compuesto por un conjunto de variable que consisten en medidas de la voz, tomadas a 42 personas con enfermedad de parkinson en etapa temprana. A partir de la predicción de la variable total_UPDRS se pueden tomar decisiones que pueden ayudar a afrontar este problema de salud. Para mayor información sobre le dataset y el problema, lea el archivo Documentación_Base_de_Datos o vaya a: https://archive.ics.uci.edu/ml/datasets/Parkinsons+Telemonitoring"
      ]
    },
    {
      "cell_type": "code",
      "execution_count": null,
      "metadata": {
        "colab": {
          "base_uri": "https://localhost:8080/",
          "height": 299
        },
        "id": "AoRQ1SnxWQVB",
        "outputId": "e74fe964-8a19-4e3f-aab7-3099e3d0bdea"
      },
      "outputs": [
        {
          "output_type": "execute_result",
          "data": {
            "text/plain": [
              "   subject#  age  sex  test_time  Jitter(%)  Jitter(Abs)  Jitter:RAP  \\\n",
              "0         1   72    0     5.6431    0.00662     0.000034     0.00401   \n",
              "1         1   72    0    12.6660    0.00300     0.000017     0.00132   \n",
              "2         1   72    0    19.6810    0.00481     0.000025     0.00205   \n",
              "3         1   72    0    25.6470    0.00528     0.000027     0.00191   \n",
              "4         1   72    0    33.6420    0.00335     0.000020     0.00093   \n",
              "\n",
              "   Jitter:PPQ5  Jitter:DDP  Shimmer  ...  Shimmer:APQ3  Shimmer:APQ5  \\\n",
              "0      0.00317     0.01204  0.02565  ...       0.01438       0.01309   \n",
              "1      0.00150     0.00395  0.02024  ...       0.00994       0.01072   \n",
              "2      0.00208     0.00616  0.01675  ...       0.00734       0.00844   \n",
              "3      0.00264     0.00573  0.02309  ...       0.01106       0.01265   \n",
              "4      0.00130     0.00278  0.01703  ...       0.00679       0.00929   \n",
              "\n",
              "   Shimmer:APQ11  Shimmer:DDA       NHR     HNR     RPDE      DFA      PPE  \\\n",
              "0        0.01662      0.04314  0.014290  21.640  0.41888  0.54842  0.16006   \n",
              "1        0.01689      0.02982  0.011112  27.183  0.43493  0.56477  0.10810   \n",
              "2        0.01458      0.02202  0.020220  23.047  0.46222  0.54405  0.21014   \n",
              "3        0.01963      0.03317  0.027837  24.445  0.48730  0.57794  0.33277   \n",
              "4        0.01819      0.02036  0.011625  26.126  0.47188  0.56122  0.19361   \n",
              "\n",
              "   total_UPDRS  \n",
              "0       34.398  \n",
              "1       34.894  \n",
              "2       35.389  \n",
              "3       35.810  \n",
              "4       36.375  \n",
              "\n",
              "[5 rows x 21 columns]"
            ],
            "text/html": [
              "\n",
              "  <div id=\"df-38689150-ea43-4f8e-a1e8-5a047783400f\">\n",
              "    <div class=\"colab-df-container\">\n",
              "      <div>\n",
              "<style scoped>\n",
              "    .dataframe tbody tr th:only-of-type {\n",
              "        vertical-align: middle;\n",
              "    }\n",
              "\n",
              "    .dataframe tbody tr th {\n",
              "        vertical-align: top;\n",
              "    }\n",
              "\n",
              "    .dataframe thead th {\n",
              "        text-align: right;\n",
              "    }\n",
              "</style>\n",
              "<table border=\"1\" class=\"dataframe\">\n",
              "  <thead>\n",
              "    <tr style=\"text-align: right;\">\n",
              "      <th></th>\n",
              "      <th>subject#</th>\n",
              "      <th>age</th>\n",
              "      <th>sex</th>\n",
              "      <th>test_time</th>\n",
              "      <th>Jitter(%)</th>\n",
              "      <th>Jitter(Abs)</th>\n",
              "      <th>Jitter:RAP</th>\n",
              "      <th>Jitter:PPQ5</th>\n",
              "      <th>Jitter:DDP</th>\n",
              "      <th>Shimmer</th>\n",
              "      <th>...</th>\n",
              "      <th>Shimmer:APQ3</th>\n",
              "      <th>Shimmer:APQ5</th>\n",
              "      <th>Shimmer:APQ11</th>\n",
              "      <th>Shimmer:DDA</th>\n",
              "      <th>NHR</th>\n",
              "      <th>HNR</th>\n",
              "      <th>RPDE</th>\n",
              "      <th>DFA</th>\n",
              "      <th>PPE</th>\n",
              "      <th>total_UPDRS</th>\n",
              "    </tr>\n",
              "  </thead>\n",
              "  <tbody>\n",
              "    <tr>\n",
              "      <th>0</th>\n",
              "      <td>1</td>\n",
              "      <td>72</td>\n",
              "      <td>0</td>\n",
              "      <td>5.6431</td>\n",
              "      <td>0.00662</td>\n",
              "      <td>0.000034</td>\n",
              "      <td>0.00401</td>\n",
              "      <td>0.00317</td>\n",
              "      <td>0.01204</td>\n",
              "      <td>0.02565</td>\n",
              "      <td>...</td>\n",
              "      <td>0.01438</td>\n",
              "      <td>0.01309</td>\n",
              "      <td>0.01662</td>\n",
              "      <td>0.04314</td>\n",
              "      <td>0.014290</td>\n",
              "      <td>21.640</td>\n",
              "      <td>0.41888</td>\n",
              "      <td>0.54842</td>\n",
              "      <td>0.16006</td>\n",
              "      <td>34.398</td>\n",
              "    </tr>\n",
              "    <tr>\n",
              "      <th>1</th>\n",
              "      <td>1</td>\n",
              "      <td>72</td>\n",
              "      <td>0</td>\n",
              "      <td>12.6660</td>\n",
              "      <td>0.00300</td>\n",
              "      <td>0.000017</td>\n",
              "      <td>0.00132</td>\n",
              "      <td>0.00150</td>\n",
              "      <td>0.00395</td>\n",
              "      <td>0.02024</td>\n",
              "      <td>...</td>\n",
              "      <td>0.00994</td>\n",
              "      <td>0.01072</td>\n",
              "      <td>0.01689</td>\n",
              "      <td>0.02982</td>\n",
              "      <td>0.011112</td>\n",
              "      <td>27.183</td>\n",
              "      <td>0.43493</td>\n",
              "      <td>0.56477</td>\n",
              "      <td>0.10810</td>\n",
              "      <td>34.894</td>\n",
              "    </tr>\n",
              "    <tr>\n",
              "      <th>2</th>\n",
              "      <td>1</td>\n",
              "      <td>72</td>\n",
              "      <td>0</td>\n",
              "      <td>19.6810</td>\n",
              "      <td>0.00481</td>\n",
              "      <td>0.000025</td>\n",
              "      <td>0.00205</td>\n",
              "      <td>0.00208</td>\n",
              "      <td>0.00616</td>\n",
              "      <td>0.01675</td>\n",
              "      <td>...</td>\n",
              "      <td>0.00734</td>\n",
              "      <td>0.00844</td>\n",
              "      <td>0.01458</td>\n",
              "      <td>0.02202</td>\n",
              "      <td>0.020220</td>\n",
              "      <td>23.047</td>\n",
              "      <td>0.46222</td>\n",
              "      <td>0.54405</td>\n",
              "      <td>0.21014</td>\n",
              "      <td>35.389</td>\n",
              "    </tr>\n",
              "    <tr>\n",
              "      <th>3</th>\n",
              "      <td>1</td>\n",
              "      <td>72</td>\n",
              "      <td>0</td>\n",
              "      <td>25.6470</td>\n",
              "      <td>0.00528</td>\n",
              "      <td>0.000027</td>\n",
              "      <td>0.00191</td>\n",
              "      <td>0.00264</td>\n",
              "      <td>0.00573</td>\n",
              "      <td>0.02309</td>\n",
              "      <td>...</td>\n",
              "      <td>0.01106</td>\n",
              "      <td>0.01265</td>\n",
              "      <td>0.01963</td>\n",
              "      <td>0.03317</td>\n",
              "      <td>0.027837</td>\n",
              "      <td>24.445</td>\n",
              "      <td>0.48730</td>\n",
              "      <td>0.57794</td>\n",
              "      <td>0.33277</td>\n",
              "      <td>35.810</td>\n",
              "    </tr>\n",
              "    <tr>\n",
              "      <th>4</th>\n",
              "      <td>1</td>\n",
              "      <td>72</td>\n",
              "      <td>0</td>\n",
              "      <td>33.6420</td>\n",
              "      <td>0.00335</td>\n",
              "      <td>0.000020</td>\n",
              "      <td>0.00093</td>\n",
              "      <td>0.00130</td>\n",
              "      <td>0.00278</td>\n",
              "      <td>0.01703</td>\n",
              "      <td>...</td>\n",
              "      <td>0.00679</td>\n",
              "      <td>0.00929</td>\n",
              "      <td>0.01819</td>\n",
              "      <td>0.02036</td>\n",
              "      <td>0.011625</td>\n",
              "      <td>26.126</td>\n",
              "      <td>0.47188</td>\n",
              "      <td>0.56122</td>\n",
              "      <td>0.19361</td>\n",
              "      <td>36.375</td>\n",
              "    </tr>\n",
              "  </tbody>\n",
              "</table>\n",
              "<p>5 rows × 21 columns</p>\n",
              "</div>\n",
              "      <button class=\"colab-df-convert\" onclick=\"convertToInteractive('df-38689150-ea43-4f8e-a1e8-5a047783400f')\"\n",
              "              title=\"Convert this dataframe to an interactive table.\"\n",
              "              style=\"display:none;\">\n",
              "        \n",
              "  <svg xmlns=\"http://www.w3.org/2000/svg\" height=\"24px\"viewBox=\"0 0 24 24\"\n",
              "       width=\"24px\">\n",
              "    <path d=\"M0 0h24v24H0V0z\" fill=\"none\"/>\n",
              "    <path d=\"M18.56 5.44l.94 2.06.94-2.06 2.06-.94-2.06-.94-.94-2.06-.94 2.06-2.06.94zm-11 1L8.5 8.5l.94-2.06 2.06-.94-2.06-.94L8.5 2.5l-.94 2.06-2.06.94zm10 10l.94 2.06.94-2.06 2.06-.94-2.06-.94-.94-2.06-.94 2.06-2.06.94z\"/><path d=\"M17.41 7.96l-1.37-1.37c-.4-.4-.92-.59-1.43-.59-.52 0-1.04.2-1.43.59L10.3 9.45l-7.72 7.72c-.78.78-.78 2.05 0 2.83L4 21.41c.39.39.9.59 1.41.59.51 0 1.02-.2 1.41-.59l7.78-7.78 2.81-2.81c.8-.78.8-2.07 0-2.86zM5.41 20L4 18.59l7.72-7.72 1.47 1.35L5.41 20z\"/>\n",
              "  </svg>\n",
              "      </button>\n",
              "      \n",
              "  <style>\n",
              "    .colab-df-container {\n",
              "      display:flex;\n",
              "      flex-wrap:wrap;\n",
              "      gap: 12px;\n",
              "    }\n",
              "\n",
              "    .colab-df-convert {\n",
              "      background-color: #E8F0FE;\n",
              "      border: none;\n",
              "      border-radius: 50%;\n",
              "      cursor: pointer;\n",
              "      display: none;\n",
              "      fill: #1967D2;\n",
              "      height: 32px;\n",
              "      padding: 0 0 0 0;\n",
              "      width: 32px;\n",
              "    }\n",
              "\n",
              "    .colab-df-convert:hover {\n",
              "      background-color: #E2EBFA;\n",
              "      box-shadow: 0px 1px 2px rgba(60, 64, 67, 0.3), 0px 1px 3px 1px rgba(60, 64, 67, 0.15);\n",
              "      fill: #174EA6;\n",
              "    }\n",
              "\n",
              "    [theme=dark] .colab-df-convert {\n",
              "      background-color: #3B4455;\n",
              "      fill: #D2E3FC;\n",
              "    }\n",
              "\n",
              "    [theme=dark] .colab-df-convert:hover {\n",
              "      background-color: #434B5C;\n",
              "      box-shadow: 0px 1px 3px 1px rgba(0, 0, 0, 0.15);\n",
              "      filter: drop-shadow(0px 1px 2px rgba(0, 0, 0, 0.3));\n",
              "      fill: #FFFFFF;\n",
              "    }\n",
              "  </style>\n",
              "\n",
              "      <script>\n",
              "        const buttonEl =\n",
              "          document.querySelector('#df-38689150-ea43-4f8e-a1e8-5a047783400f button.colab-df-convert');\n",
              "        buttonEl.style.display =\n",
              "          google.colab.kernel.accessAllowed ? 'block' : 'none';\n",
              "\n",
              "        async function convertToInteractive(key) {\n",
              "          const element = document.querySelector('#df-38689150-ea43-4f8e-a1e8-5a047783400f');\n",
              "          const dataTable =\n",
              "            await google.colab.kernel.invokeFunction('convertToInteractive',\n",
              "                                                     [key], {});\n",
              "          if (!dataTable) return;\n",
              "\n",
              "          const docLinkHtml = 'Like what you see? Visit the ' +\n",
              "            '<a target=\"_blank\" href=https://colab.research.google.com/notebooks/data_table.ipynb>data table notebook</a>'\n",
              "            + ' to learn more about interactive tables.';\n",
              "          element.innerHTML = '';\n",
              "          dataTable['output_type'] = 'display_data';\n",
              "          await google.colab.output.renderOutput(dataTable, element);\n",
              "          const docLink = document.createElement('div');\n",
              "          docLink.innerHTML = docLinkHtml;\n",
              "          element.appendChild(docLink);\n",
              "        }\n",
              "      </script>\n",
              "    </div>\n",
              "  </div>\n",
              "  "
            ]
          },
          "metadata": {},
          "execution_count": 85
        }
      ],
      "source": [
        "import pandas as pd\n",
        "\n",
        "#cargamos la bd que está en un archivo txt y ahora la podemos manejar de forma matricial\n",
        "#db = pd.read_csv('DB_Parkinson.xlsx', delimiter='\\t')  # Assuming tab-delimiter\n",
        "db =pd.read_excel('DB_Parkinson.xlsx')  # Assuming tab-delimiter\n",
        "db.head()"
      ]
    },
    {
      "cell_type": "markdown",
      "metadata": {
        "id": "ioTMEBQMWQVD"
      },
      "source": [
        "A continuación las variables o caracterísicas son guardadas en la variable $X$ que posteriormente es estandarizada y la variable de salida o variable a predecir es guardada en la variable Y. Complete el código llamando a la función gradiente_descendente y pasándole los parámetros correspondientes. Debe obtener como salída el vector de parámetros W estimado y la gráfica del error cuadrático medio vs iteraciones."
      ]
    },
    {
      "cell_type": "code",
      "execution_count": null,
      "metadata": {
        "id": "ESvMU5IcWQVD"
      },
      "outputs": [],
      "source": [
        "from sklearn.preprocessing import MinMaxScaler\n",
        "\n",
        "X = db.iloc[:,0:20].to_numpy()\n",
        "Y = db.iloc[:,20].to_numpy()\n",
        "\n",
        "#Estandarización de los datos\n",
        "#La importancia de esto la veremos más adelante en el curso\n",
        "scaler = MinMaxScaler()\n",
        "scaler.fit(X)\n",
        "X = scaler.transform(X)\n",
        "\n",
        "#Partimos la base de datos en dos partes, una para entrenar y otra para validar.\n",
        "#Esto lo veremos con mayor detalle más adelante en el curso.\n",
        "X_train = X[0:4876,0:20]\n",
        "Y_train = Y[0:4876]\n",
        "\n",
        "X_test = X[4876:,0:20]\n",
        "Y_test = Y[4876:]"
      ]
    },
    {
      "cell_type": "code",
      "execution_count": null,
      "metadata": {
        "id": "15maaWGtWQVD",
        "colab": {
          "base_uri": "https://localhost:8080/",
          "height": 356
        },
        "outputId": "d8440ff2-1647-40fb-f7b9-abb4eb230aa8"
      },
      "outputs": [
        {
          "output_type": "error",
          "ename": "ValueError",
          "evalue": "ignored",
          "traceback": [
            "\u001b[0;31m---------------------------------------------------------------------------\u001b[0m",
            "\u001b[0;31mValueError\u001b[0m                                Traceback (most recent call last)",
            "\u001b[0;32m<ipython-input-98-5420f612ad1e>\u001b[0m in \u001b[0;36m<module>\u001b[0;34m()\u001b[0m\n\u001b[1;32m      6\u001b[0m \u001b[0;31m#(X_train, Y_train). Use 1000 iteraciones para el laboratorio\u001b[0m\u001b[0;34m\u001b[0m\u001b[0;34m\u001b[0m\u001b[0;34m\u001b[0m\u001b[0m\n\u001b[1;32m      7\u001b[0m \u001b[0miteraciones\u001b[0m \u001b[0;34m=\u001b[0m \u001b[0;36m1000\u001b[0m\u001b[0;34m\u001b[0m\u001b[0;34m\u001b[0m\u001b[0m\n\u001b[0;32m----> 8\u001b[0;31m \u001b[0mW\u001b[0m \u001b[0;34m=\u001b[0m  \u001b[0mgradiente_descendente\u001b[0m\u001b[0;34m(\u001b[0m\u001b[0mX\u001b[0m\u001b[0;34m,\u001b[0m\u001b[0mY\u001b[0m\u001b[0;34m,\u001b[0m\u001b[0mgrado\u001b[0m\u001b[0;34m,\u001b[0m\u001b[0meta\u001b[0m\u001b[0;34m,\u001b[0m\u001b[0miteraciones\u001b[0m\u001b[0;34m)\u001b[0m\u001b[0;34m\u001b[0m\u001b[0;34m\u001b[0m\u001b[0m\n\u001b[0m",
            "\u001b[0;32m<ipython-input-96-371dc46fda1e>\u001b[0m in \u001b[0;36mgradiente_descendente\u001b[0;34m(X, Y, grado, eta, iterations)\u001b[0m\n\u001b[1;32m     75\u001b[0m         \u001b[0;31m#parámetros W. Tenga en cuenta los nombres de las variables ya creadas:\u001b[0m\u001b[0;34m\u001b[0m\u001b[0;34m\u001b[0m\u001b[0;34m\u001b[0m\u001b[0m\n\u001b[1;32m     76\u001b[0m         \u001b[0;31m#Want, X, Y\u001b[0m\u001b[0;34m\u001b[0m\u001b[0;34m\u001b[0m\u001b[0;34m\u001b[0m\u001b[0m\n\u001b[0;32m---> 77\u001b[0;31m         \u001b[0mP\u001b[0m \u001b[0;34m=\u001b[0m \u001b[0mnp\u001b[0m\u001b[0;34m.\u001b[0m\u001b[0mdot\u001b[0m\u001b[0;34m(\u001b[0m\u001b[0mecms\u001b[0m\u001b[0;34m,\u001b[0m\u001b[0mX\u001b[0m\u001b[0;34m)\u001b[0m\u001b[0;34m\u001b[0m\u001b[0;34m\u001b[0m\u001b[0m\n\u001b[0m\u001b[1;32m     78\u001b[0m         \u001b[0;31m#Nota: si usa la notación matricial esto puede hacerse en dos líneas de\u001b[0m\u001b[0;34m\u001b[0m\u001b[0;34m\u001b[0m\u001b[0;34m\u001b[0m\u001b[0m\n\u001b[1;32m     79\u001b[0m         \u001b[0;31m#código.\u001b[0m\u001b[0;34m\u001b[0m\u001b[0;34m\u001b[0m\u001b[0;34m\u001b[0m\u001b[0m\n",
            "\u001b[0;32m<__array_function__ internals>\u001b[0m in \u001b[0;36mdot\u001b[0;34m(*args, **kwargs)\u001b[0m\n",
            "\u001b[0;31mValueError\u001b[0m: shapes (1000,) and (5875,21) not aligned: 1000 (dim 0) != 5875 (dim 0)"
          ]
        }
      ],
      "source": [
        "eta = 0.001\n",
        "grado = 1\n",
        "\n",
        "#Complete la siguiente línea de código llamando el método gradiente_descendente\n",
        "#con sus respectivos argumentos. Use solo las muestras marcadas para entrenamiento\n",
        "#(X_train, Y_train). Use 1000 iteraciones para el laboratorio\n",
        "iteraciones = 1000\n",
        "W =  gradiente_descendente(X,Y,grado,eta,iteraciones)"
      ]
    },
    {
      "cell_type": "markdown",
      "metadata": {
        "id": "LLe4vK-LWQVE"
      },
      "source": [
        "3.1 Cuántas muestras tiene la base de datos?\n",
        "\n",
        "3.2 Cuántas caracteristicas tiene el problema?\n",
        "\n",
        "3.3 Cuál es el número de coeficientes w que se obtienen al ingresar un polinomio de grado 4? por qué?\n",
        "\n",
        "3.4 Cuántas muestras se usarán para entrenar y cuántas para validar el modelo?"
      ]
    },
    {
      "cell_type": "markdown",
      "metadata": {
        "id": "TX0C-pA1WQVE"
      },
      "source": [
        "Responda aquí:\n",
        "\n",
        "3.1 R/: \n",
        "\n",
        "3.2 R/: \n",
        "\n",
        "3.3 R/:\n",
        "\n",
        "3.4 R/:\n"
      ]
    },
    {
      "cell_type": "markdown",
      "metadata": {
        "id": "aHYszKapWQVE"
      },
      "source": [
        "## Ejercicio 4\n",
        "\n",
        "Identifique la variable \"grado\" (M según el modelo visto en clase) en el código anterior, cambie su valor de acuerdo a la siguiente tabla y complete la columna ECM.\n",
        "\n",
        "<table>\n",
        "  <tr>\n",
        "    <th>Tasa de aprendizaje</th>\n",
        "    <th>Grado del polinomio</th>\n",
        "    <th>Error Cuadrático Medio (ECM)</th>\n",
        "  </tr>\n",
        "    \n",
        " <tr>\n",
        "    <td></td>\n",
        "    <td>1</td>\n",
        "    <td></td>\n",
        "  </tr> \n",
        "  <tr>\n",
        "    <td></td>\n",
        "    <td>2</td>\n",
        "    <td></td>\n",
        "  </tr>\n",
        "  <tr>\n",
        "    <td></td>\n",
        "    <td>3</td>\n",
        "    <td></td>\n",
        "  </tr>\n",
        "  <tr>\n",
        "    <td></td>\n",
        "    <td>4</td>\n",
        "    <td></td>\n",
        "  </tr>\n",
        "  <tr>\n",
        "    <td>0.001</td>\n",
        "    <td>5</td>\n",
        "    <td>53.69796</td>\n",
        "  </tr>\n",
        "  \n",
        "  <tr>\n",
        "    <td></td>\n",
        "    <td>6</td>\n",
        "    <td></td>\n",
        "  </tr> \n",
        "  <tr>\n",
        "    <td></td>\n",
        "    <td>7</td>\n",
        "    <td></td>\n",
        "  </tr>\n",
        "  <tr>\n",
        "    <td></td>\n",
        "    <td>8</td>\n",
        "    <td></td>\n",
        "  </tr>\n",
        "  <tr>\n",
        "    <td></td>\n",
        "    <td>9</td>\n",
        "    <td></td>\n",
        "  </tr>\n",
        "  <tr>\n",
        "    <td></td>\n",
        "    <td>10</td>\n",
        "    <td></td>\n",
        "  </tr>\n",
        "</table>\n",
        "\n",
        "\n",
        "\n",
        "Tenga en cuenta que cuando el valor de $\\eta$ sea $0.001$ y el grado del polinomio sea $5$, el valor del ECM debe ser $53.69796$. Esto le servirá de criterio de verificación para la implementación de su algorítmo de gradiente descendente.\n"
      ]
    },
    {
      "cell_type": "markdown",
      "metadata": {
        "id": "BKHpPW2iWQVF"
      },
      "source": [
        "## Ejericio 5\n",
        "\n",
        "Con el mejor modelo entrenado (menor ECM), haga la predicción para todos las muestras X_test y calcule el ECM teniendo en cuenta los valores teóricos de salida Y_test."
      ]
    },
    {
      "cell_type": "code",
      "execution_count": null,
      "metadata": {
        "id": "rgBbxHJJWQVF"
      },
      "outputs": [],
      "source": [
        "#Escriba su código aquí"
      ]
    },
    {
      "cell_type": "markdown",
      "metadata": {
        "id": "Qmxv-30eWQVF"
      },
      "source": [
        "5.1 Qué diferencia nota en cuánto a los resultados en entrenamiento y en validación?\n",
        "\n",
        "R/:\n",
        "\n",
        "5.2 Por qué cree que ocurre lo anterior?\n",
        "\n",
        "R/:"
      ]
    },
    {
      "cell_type": "markdown",
      "metadata": {
        "id": "RBaXDIVkWQVF"
      },
      "source": [
        "### Nota\n",
        "\n",
        "Tenga en cuenta que los resultados de este modelo se pueden mejorar incrementando las iteraciones, pero realizaron 1000 para evitar altos costos computacionales."
      ]
    },
    {
      "cell_type": "code",
      "execution_count": null,
      "metadata": {
        "id": "Zel6LbhoWQVF",
        "colab": {
          "base_uri": "https://localhost:8080/"
        },
        "outputId": "8fc12eab-da1f-4840-858a-46d8efa3eb54"
      },
      "outputs": [
        {
          "output_type": "stream",
          "name": "stdout",
          "text": [
            "[4 5 6]\n"
          ]
        }
      ],
      "source": [
        "import pandas as pd\n",
        "\n",
        "a = [[1,2,3],[4,5,6],[7,8,9]]\n",
        "m = pd.DataFrame(a)\n",
        "p = m.iloc[1].to_numpy()\n",
        "print(p)"
      ]
    }
  ],
  "metadata": {
    "kernelspec": {
      "display_name": "Python 3",
      "language": "python",
      "name": "python3"
    },
    "language_info": {
      "codemirror_mode": {
        "name": "ipython",
        "version": 3
      },
      "file_extension": ".py",
      "mimetype": "text/x-python",
      "name": "python",
      "nbconvert_exporter": "python",
      "pygments_lexer": "ipython3",
      "version": "3.8.3"
    },
    "colab": {
      "provenance": [],
      "include_colab_link": true
    }
  },
  "nbformat": 4,
  "nbformat_minor": 0
}