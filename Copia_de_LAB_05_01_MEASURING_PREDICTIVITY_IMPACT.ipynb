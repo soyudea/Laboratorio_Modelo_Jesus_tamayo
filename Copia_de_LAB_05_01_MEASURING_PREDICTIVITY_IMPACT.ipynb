{
  "cells": [
    {
      "cell_type": "markdown",
      "metadata": {
        "id": "view-in-github",
        "colab_type": "text"
      },
      "source": [
        "<a href=\"https://colab.research.google.com/github/soyudea/Laboratorio_Modelo_Jesus_tamayo/blob/main/Copia_de_LAB_05_01_MEASURING_PREDICTIVITY_IMPACT.ipynb\" target=\"_parent\"><img src=\"https://colab.research.google.com/assets/colab-badge.svg\" alt=\"Open In Colab\"/></a>"
      ]
    },
    {
      "cell_type": "markdown",
      "metadata": {
        "id": "pqfXNatr8Ooj"
      },
      "source": [
        "# LAB 05.01 - Predictions impact"
      ]
    },
    {
      "cell_type": "code",
      "source": [],
      "metadata": {
        "id": "MZ0PQabIGo9Y"
      },
      "execution_count": null,
      "outputs": []
    },
    {
      "cell_type": "code",
      "execution_count": null,
      "metadata": {
        "id": "mA7e2RP48Oom",
        "colab": {
          "base_uri": "https://localhost:8080/",
          "height": 58
        },
        "outputId": "e5996b77-1e98-4e10-ab68-e176b177d499"
      },
      "outputs": [
        {
          "output_type": "display_data",
          "data": {
            "text/plain": [
              "<IPython.core.display.HTML object>"
            ],
            "text/html": [
              "\n",
              "<meta name=\"google-signin-client_id\"\n",
              "      content=\"461673936472-kdjosv61up3ac1ajeuq6qqu72upilmls.apps.googleusercontent.com\"/>\n",
              "<script src=\"https://apis.google.com/js/client:platform.js?onload=google_button_start\"></script>\n",
              "    "
            ]
          },
          "metadata": {}
        },
        {
          "output_type": "execute_result",
          "data": {
            "text/plain": [
              "<IPython.core.display.HTML object>"
            ],
            "text/html": [
              "<h3>See <a href='https://m5knaekxo6.execute-api.us-west-2.amazonaws.com/dev-v0001/rlxmooc/web/login' target='_blank'>my courses and progress</a></h2>"
            ]
          },
          "metadata": {},
          "execution_count": 42
        }
      ],
      "source": [
        "!wget --no-cache -O init.py -q https://raw.githubusercontent.com/rramosp/ai4eng.v1/main/content/init.py\n",
        "import init; init.init(force_download=False); init.get_weblink()\n"
      ]
    },
    {
      "cell_type": "code",
      "execution_count": null,
      "metadata": {
        "id": "XQ-x3A408Ooo",
        "colab": {
          "base_uri": "https://localhost:8080/",
          "height": 74,
          "referenced_widgets": [
            "d0d185cbab63438682192fb15ecda12a",
            "d46f6c5e56f64a10a03515ce0f8e2233",
            "7c4b258292cd414596f894730ed13a4e",
            "1be78d5e91d2435dae75aa790966ecd6",
            "a2f9688b0b014a3d8936830ae42f6b9b",
            "7f5fb3e566f54818af37b6231d064fea",
            "b5caa892d08d494d8ba63caf972bfc5e",
            "3813006f188841659f100bce49e14c04",
            "aa8ac7ba10fb4ea7947ed75118077587",
            "0ce9c954ab1f49b28a41407840c513e9",
            "5077c9ee7f5c4560805c0697774d2fed",
            "a4804866040748ada5318d7e67626fce",
            "bee895850a2b47579e3ff0e947cdb2f8",
            "8fde6c1de16f47da8fb291f5f9245569",
            "9346dab2f0e94fa387af44e2a8e8552d",
            "916bdf22065941a9a2ddd27c9a32409b",
            "f2808306f26742eebe7de198fc76b49e",
            "e666b55f50dc4c1baf67ae13726dcf4e",
            "87c1af53a50048e0b08fe2f298933a2b"
          ]
        },
        "outputId": "5442b042-2bb6-40ce-ff3c-30195262c3db"
      },
      "outputs": [
        {
          "output_type": "stream",
          "name": "stdout",
          "text": [
            "logging in as omara.torres@udea.edu.co ... please wait\n",
            "using course session ai4eng.v1.udea.r2::2023.1\n",
            "success!! you are logged in\n"
          ]
        }
      ],
      "source": [
        "from local.lib.rlxmoocapi import submit, session\n",
        "session.LoginSequence(endpoint=init.endpoint, course_id=init.course_id, lab_id=\"L05.01\", varname=\"student\");"
      ]
    },
    {
      "cell_type": "code",
      "execution_count": null,
      "metadata": {
        "id": "1-4KLyXT8Oop"
      },
      "outputs": [],
      "source": []
    },
    {
      "cell_type": "markdown",
      "metadata": {
        "id": "XgpAevHw8Oop"
      },
      "source": [
        "## Task 1. Compute PNL from strategy\n",
        "\n",
        "observe the following signal `s`, and model trend predictions `p` (not perfect predictions!!)"
      ]
    },
    {
      "cell_type": "code",
      "execution_count": null,
      "metadata": {
        "id": "jQWSkJVM8Oop",
        "colab": {
          "base_uri": "https://localhost:8080/"
        },
        "outputId": "4c523d2c-74cb-4ace-a483-1900546c5e72"
      },
      "outputs": [
        {
          "output_type": "stream",
          "name": "stdout",
          "text": [
            "(20,) (19,)\n"
          ]
        }
      ],
      "source": [
        "import numpy as np\n",
        "import matplotlib.pyplot as plt\n",
        "import pandas as pd\n",
        "%matplotlib inline\n",
        "s = np.round((np.random.normal(size=20)*5+.5).cumsum()+100,2)\n",
        "p = (np.random.random(size=len(s)-1)>.3).astype(int)\n",
        "print (s.shape, p.shape)"
      ]
    },
    {
      "cell_type": "code",
      "execution_count": null,
      "metadata": {
        "id": "pTiTo4zI8Ooq",
        "outputId": "746e3a88-6c42-4949-839b-16881d184745",
        "colab": {
          "base_uri": "https://localhost:8080/",
          "height": 501
        }
      },
      "outputs": [
        {
          "output_type": "stream",
          "name": "stdout",
          "text": [
            "SIGNAL     [114.2  117.88 125.13 140.68 131.26 134.55 137.47 134.04 136.1  135.8\n",
            " 128.64 129.79 132.94 129.53 138.11 138.77 133.57 129.81 133.71 136.56]\n",
            "PREDICTION [1 0 1 1 1 0 1 1 1 1 0 1 0 1 1 1 0 1 1]\n"
          ]
        },
        {
          "output_type": "display_data",
          "data": {
            "text/plain": [
              "<Figure size 640x480 with 1 Axes>"
            ],
            "image/png": "[encoded data removed]"
          },
          "metadata": {}
        }
      ],
      "source": [
        " \n",
        "plt.plot(s, color=\"black\")\n",
        "plt.scatter(np.arange(len(p))[p==0], s[:-1][p==0], color=\"red\", label=\"prediction down\")\n",
        "plt.scatter(np.arange(len(p))[p==1], s[:-1][p==1], color=\"blue\", label=\"prediction up\")\n",
        "plt.grid(); plt.legend(); plt.xlabel(\"time instant\"); plt.ylabel(\"price\")\n",
        "plt.xticks(range(len(s)), range(len(s)))\n",
        "pd.DataFrame(np.vstack((s,list(p)+[np.nan])), index=[\"signal\", \"prediction\"])\n",
        "print (\"SIGNAL    \", s)\n",
        "print (\"PREDICTION\", p)\n"
      ]
    },
    {
      "cell_type": "markdown",
      "metadata": {
        "id": "NfaZGI0N8Oor"
      },
      "source": [
        "fill in the `pnl` variable below with a list of 19 values corresponding on applying the same strategy as in the notes, buying or selling always ONE money unit:\n",
        "\n",
        "- if the prediction is zero, we believe the price is going down, so we sell ONE money unit at the current price and buy it at the next instant of time\n",
        "- if the prediction is one, we do the opposite\n",
        "- BUT there is a **commission** of 1%, applied on the instant you make the first operation (which uses the current price)\n",
        "\n",
        "observe that there are 20 signal points, and 19 predictions. \n",
        "\n",
        "you can use your tool of choice (Excel, Python, etc.) to compute your answer\n",
        "\n",
        "**HINT**: Understand each component of the expression for `perfect_prediction` below to try to obtain your answer with Python."
      ]
    },
    {
      "cell_type": "markdown",
      "metadata": {
        "id": "C-mSl-778Oor"
      },
      "source": [
        "\n",
        "\n",
        "**For instance**: the following signal and predictions:"
      ]
    },
    {
      "cell_type": "code",
      "execution_count": null,
      "metadata": {
        "id": "MPB6YDL18Oos",
        "outputId": "fb2efb77-e485-4fe7-f95f-dd4054e76639",
        "colab": {
          "base_uri": "https://localhost:8080/",
          "height": 294
        }
      },
      "outputs": [
        {
          "output_type": "execute_result",
          "data": {
            "image/png": "[encoded data removed]",
            "text/plain": [
              "<IPython.core.display.Image object>"
            ]
          },
          "metadata": {
            "image/png": {
              "width": 600
            }
          },
          "execution_count": 6
        }
      ],
      "source": [
        " \n",
        "from IPython.display import Image\n",
        "Image(\"local/imgs/timeseries-prediction.png\", width=600)\n"
      ]
    },
    {
      "cell_type": "markdown",
      "metadata": {
        "id": "K5u8TWLf8Oos"
      },
      "source": [
        "produce the following set of PNL\n",
        "\n",
        "     2.65 7.86 -0.31 7.48 2.61 2.19 1.33 -2.08 -2.71 -2.88 0.42 -5.39 3.03 1.53 3.45 9.88 10.70 -7.69 -0.60\n",
        "     \n",
        "- at `t=0` the PNL is $(107.06-103.38)\\times 1 - 103.38\\times 1 \\times .01=2.65$, since the prediction was correct\n",
        "- at `t=2` the PNL is $(116.84-115.99)\\times 1 - 115.99\\times 1 \\times .01=-0.31$, since the prediction was correct, BUT the price difference is small and the commission overcomes the profit.\n",
        "- at `t=7` the PNL is $(111.76 - 112.71)\\times1 - 112.71\\times1\\times.01=-2.08$, since the prediction was incorrect\n",
        "\n",
        "\n",
        "in the expressions above, the first term is the net profit or loss, and the second one is due to the commission. Multiplication by $1$ simply signals we are trading ONE unit."
      ]
    },
    {
      "cell_type": "markdown",
      "metadata": {
        "id": "ZEeUcAmp8Oos"
      },
      "source": [
        "also, observe that the following python code, will generate a perfect prediction signal, which, when applied to our strategy, will result in a list of all positive PNLs."
      ]
    },
    {
      "cell_type": "code",
      "execution_count": null,
      "metadata": {
        "id": "uisJhNKD8Oot",
        "colab": {
          "base_uri": "https://localhost:8080/"
        },
        "outputId": "43d6331b-6867-4a43-ecf6-18eb27f1ad87"
      },
      "outputs": [
        {
          "output_type": "execute_result",
          "data": {
            "text/plain": [
              "array([0, 1, 0, 1, 0, 0, 1, 1, 1, 0, 0, 0, 1, 0, 1, 0, 0, 0, 1])"
            ]
          },
          "metadata": {},
          "execution_count": 6
        }
      ],
      "source": [
        "perfect_prediction = (s[1:]>s[:-1]).astype(int)\n",
        "perfect_prediction"
      ]
    },
    {
      "cell_type": "markdown",
      "metadata": {
        "id": "NQWfXaLR8Oot"
      },
      "source": [
        "**CHALLENGE 1** (not mandatory): make your answer in python\n",
        "\n",
        "**hints**:\n",
        "\n",
        "    s[1:]            will give you all elements of s except the first one\n",
        "    s[:-1]           will give you all elements of s except the last one\n",
        "    s[1:] - s[:-1]   will give you the difference of price in one time with respect to the next one\n",
        "    (p-0.5)*2        will convert vector p (containing 0's and 1's) into a vector of -1's and +1's"
      ]
    },
    {
      "cell_type": "code",
      "source": [
        "pnl = []\n",
        "valor = 0\n",
        "for i in range(len(s)-1):\n",
        "    if i==len(s):\n",
        "       break\n",
        "    else:\n",
        "        if p[i] ==0:\n",
        "             valor = np.round((((s[i]-s[i+1])*1)- s[i]*1*0.01),2)\n",
        "        else: valor = np.round((((s[i+1]-s[i])*1)- s[i]*1*0.01),2)\n",
        "        pnl.append(valor)\n",
        "     \n"
      ],
      "metadata": {
        "id": "p-LtSq7hmOET"
      },
      "execution_count": null,
      "outputs": []
    },
    {
      "cell_type": "markdown",
      "metadata": {
        "id": "4TDB6bhF8Oot"
      },
      "source": [
        "**fill in the following variable**"
      ]
    },
    {
      "cell_type": "code",
      "execution_count": null,
      "metadata": {
        "id": "9YzAl-2p8Oot"
      },
      "outputs": [],
      "source": [
        "pnl = pnl\n",
        "pnl\n"
      ]
    },
    {
      "cell_type": "markdown",
      "metadata": {
        "id": "IwtE2Ywg8Oou"
      },
      "source": [
        "**submit your answer**"
      ]
    },
    {
      "cell_type": "code",
      "execution_count": null,
      "metadata": {
        "scrolled": false,
        "id": "jWzq9_eF8Oou",
        "colab": {
          "base_uri": "https://localhost:8080/",
          "height": 111
        },
        "outputId": "39f2d525-8e24-46cf-8d8c-e56131e94ec2"
      },
      "outputs": [
        {
          "output_type": "display_data",
          "data": {
            "text/plain": [
              "<IPython.core.display.HTML object>"
            ],
            "text/html": [
              "\n",
              "                    <b>task_01 submitted.</b> <b><font color=\"blue\">your grade is 5</font></b> \n",
              "                    <p/><pre>----- grader message -------</pre><b>correct</b><pre>----------------------------</pre>\n",
              "                    <p/><p/>\n",
              "                    <div style=\"font-size:10px\"><b>SUBMISSION CODE</b> V/e+BiIa0LeS8Vn6sC7FJx8i+ZoFL6TcUABoqb1I5QEXJU9zP5JrADV0G9MYrzNIfTgQsamdH1JZ07UbHHJ9JpwaCrGspBmiYhIEF7gOLUsI3UsjR91pApAFnUxNWlq+3ph4FfaprhI5DRtpSfTu0ibE1/CQAQ5sSdFnVm8wcAc=</div>\n",
              "                    "
            ]
          },
          "metadata": {}
        }
      ],
      "source": [
        "student.submit_task(globals(), task_id=\"task_01\");"
      ]
    },
    {
      "cell_type": "code",
      "execution_count": null,
      "metadata": {
        "id": "VLqXfUsl8Oou"
      },
      "outputs": [],
      "source": []
    },
    {
      "cell_type": "code",
      "execution_count": null,
      "metadata": {
        "id": "eGre-LqE8Oou"
      },
      "outputs": [],
      "source": []
    },
    {
      "cell_type": "markdown",
      "metadata": {
        "id": "ouuCVmjG8Oou"
      },
      "source": [
        "## Task 2: Simulated prediction signal"
      ]
    },
    {
      "cell_type": "markdown",
      "metadata": {
        "id": "jXWrdsXk8Oou"
      },
      "source": [
        "given the following signal, produce a synthetic prediction signal with the given percentage of correct predictions.\n",
        "\n",
        "observe that `s` has length 21, but your synthetic prediction will have a length of 20.\n",
        "\n",
        "fill in the variable `prediction`, with a list with 20 zeros or ones, containing a prediction with `acc` correct predictions.\n",
        "\n",
        "for instance, with the following signal\n",
        "\n",
        "        [100.37 102.92 102.69 104.57 105.06  97.9  103.   100.32  97.59 107.07\n",
        "         112.19 106.32 104.14 100.3   97.03 107.28 100.36 100.99 111.48 117.07\n",
        "         126.04]\n",
        "         \n",
        "the following predictions:\n",
        "\n",
        "        p = [1, 0, 1, 0, 0, 1, 1, 1, 1, 1, 1, 0, 0, 1, 1, 0, 0, 1, 0, 0]\n",
        "        \n",
        "produce a trend prediction accuracy of 60% (`acc=0.6`)\n",
        "\n",
        "**HINT**: Do it in Python\n",
        "\n",
        "- use the perfect prediction from the exercise above to start with.\n",
        "- use `np.random.permutation`\n",
        "\n",
        "for instance:"
      ]
    },
    {
      "cell_type": "code",
      "source": [],
      "metadata": {
        "id": "zXnReKihIMZ4"
      },
      "execution_count": null,
      "outputs": []
    },
    {
      "cell_type": "markdown",
      "metadata": {
        "id": "_9pnrXfW8Oov"
      },
      "source": [
        "**your signal and target accuracy to achieve**"
      ]
    },
    {
      "cell_type": "code",
      "execution_count": null,
      "metadata": {
        "id": "TDcQMd398Oov",
        "outputId": "124fbd96-7926-4b0c-a1e4-3ca65c67736b",
        "colab": {
          "base_uri": "https://localhost:8080/"
        }
      },
      "outputs": [
        {
          "output_type": "stream",
          "name": "stdout",
          "text": [
            "YOUR SIGNAL [ 92.69  96.3   94.21  95.73 103.31 105.68 102.85  99.49  91.43  95.35\n",
            "  96.    97.92 103.21  95.29 103.91 109.17 111.47 114.65 120.85 131.21\n",
            " 129.9 ]\n",
            "THE ACCURACY YOUR SYNTHETIC PREDICTIONS MUST ACHIEVE:  0.6\n"
          ]
        }
      ],
      "source": [
        " \n",
        "s = ((np.random.normal(size=21)*5+.5).cumsum()+100).round(2)\n",
        "acc = np.round(np.random.random()*.9+.1, 1)\n",
        "print (\"YOUR SIGNAL\", s)\n",
        "print (\"THE ACCURACY YOUR SYNTHETIC PREDICTIONS MUST ACHIEVE: \", acc)\n",
        "\n"
      ]
    },
    {
      "cell_type": "markdown",
      "source": [
        "**Creacion sintetica del P**"
      ],
      "metadata": {
        "id": "KmwgrjuQJ8uC"
      }
    },
    {
      "cell_type": "markdown",
      "source": [
        "Permutacionde P para buscar el PNL perfecto"
      ],
      "metadata": {
        "id": "iPXy8Y8EKJ0R"
      }
    },
    {
      "cell_type": "code",
      "execution_count": null,
      "metadata": {
        "id": "WDCYZrSw8Oov"
      },
      "outputs": [],
      "source": [
        "my_synthetic_prediction = [1,0,1,1,1,0,0,0,1,1,1,1,0,1,1,1,1,1,1,0]"
      ]
    },
    {
      "cell_type": "code",
      "execution_count": null,
      "metadata": {
        "id": "dluvs0J18Oov"
      },
      "outputs": [],
      "source": [
        "pnl=pnl\n",
        "pnl"
      ]
    },
    {
      "cell_type": "code",
      "execution_count": null,
      "metadata": {
        "scrolled": true,
        "id": "2sh3AnEi8Oov",
        "colab": {
          "base_uri": "https://localhost:8080/",
          "height": 111
        },
        "outputId": "a4cfd7f3-4675-4370-f47c-608ab258200f"
      },
      "outputs": [
        {
          "output_type": "display_data",
          "data": {
            "text/plain": [
              "<IPython.core.display.HTML object>"
            ],
            "text/html": [
              "\n",
              "                    <b>task_02 submitted.</b> <b><font color=\"blue\">your grade is 5</font></b> \n",
              "                    <p/><pre>----- grader message -------</pre><b>correct</b><pre>----------------------------</pre>\n",
              "                    <p/><p/>\n",
              "                    <div style=\"font-size:10px\"><b>SUBMISSION CODE</b> 38slX4vKs0S5XlNJc9mEqu+CvjmkSJxDP9U27LdwtjeAg7xZFN9UNQwU4SKvzjnKLVt7/jUQyvOvC23jjqIEpf+F2k7LvrOQIN7564nnotC0a5qaum+CJx+DkL1rSA0y2xGFus7FGtFzAdE69kmZTtzpYJOL4d5vZBCabfQiEr8=</div>\n",
              "                    "
            ]
          },
          "metadata": {}
        }
      ],
      "source": [
        "student.submit_task(globals(), task_id=\"task_02\");"
      ]
    },
    {
      "cell_type": "code",
      "execution_count": null,
      "metadata": {
        "id": "4wxZfVHP8Oow"
      },
      "outputs": [],
      "source": []
    },
    {
      "cell_type": "markdown",
      "metadata": {
        "id": "loUT0Pmo8Oow"
      },
      "source": [
        "## Task 3: ML Metric vs Business Metric\n",
        "\n",
        "now, your are given a signal (length=21) and you will have to create \n",
        "\n",
        "- an array of 9 rows x 20 columns with synthetic predictions so that the first row (row number zero in python) has accuracy of 10%, the second has 20%, etc.\n",
        "- a list of 9 numbers containing the PNL of using the synthetic predictions on the above array as input for a trading strategy.\n",
        "\n",
        "for instance, for this signal:\n",
        "\n",
        "    [101.33,  96.75,  98.2 ,  95.3 ,  97.96,  98.75,  92.46,  82.2 , 78.61,  80.  ,  \n",
        "      88.78,  98.72, 103.22, 113.65, 103.89, 107.36, 114.6 , 103.9 , 108.71, 104.2 , 107.8 ]\n",
        "\n",
        "you will have to create the following variables:\n",
        "\n",
        "    pset = np.array([[1, 1, 1, 0, 0, 1, 1, 1, 0, 0, 0, 0, 0, 1, 1, 0, 1, 0, 1, 0],\n",
        "                     [1, 0, 1, 0, 0, 1, 1, 1, 0, 1, 0, 1, 1, 1, 0, 1, 1, 0, 1, 0],\n",
        "                     [1, 0, 0, 0, 0, 0, 1, 1, 0, 1, 0, 1, 0, 1, 0, 1, 1, 0, 0, 0],\n",
        "                     [1, 0, 0, 0, 0, 1, 1, 1, 1, 1, 0, 1, 1, 1, 1, 1, 1, 0, 1, 1],\n",
        "                     [1, 1, 0, 0, 0, 0, 0, 0, 0, 0, 1, 1, 1, 0, 0, 0, 1, 0, 0, 0],\n",
        "                     [0, 1, 0, 1, 1, 1, 0, 0, 1, 1, 0, 0, 1, 1, 0, 0, 1, 1, 0, 0],\n",
        "                     [0, 1, 1, 0, 1, 0, 1, 0, 1, 1, 1, 1, 0, 0, 0, 1, 0, 1, 1, 1],\n",
        "                     [0, 1, 0, 1, 1, 0, 1, 0, 1, 1, 1, 1, 1, 0, 0, 0, 0, 1, 1, 1],\n",
        "                     [0, 1, 0, 0, 1, 0, 0, 0, 1, 1, 1, 1, 1, 0, 1, 1, 0, 0, 0, 1]])\n",
        "\n",
        "    \n",
        "    pnl = np.array([-121.5, -69.44, -62.90, -46.72, -4.08, -19.04, 23.5, 41.0, 77.02])\n",
        "    \n",
        "**NOTE**: Specify your PNL rounded to **TWO** decimal places"
      ]
    },
    {
      "cell_type": "code",
      "execution_count": null,
      "metadata": {
        "id": "RCRooxcm8Oow",
        "colab": {
          "base_uri": "https://localhost:8080/"
        },
        "outputId": "4f47ec34-a65c-4f84-af2d-e1fd9b4e2a86"
      },
      "outputs": [
        {
          "output_type": "execute_result",
          "data": {
            "text/plain": [
              "array([102.39,  99.98, 109.11, 101.18,  93.16,  89.08, 100.81,  99.55,\n",
              "       107.44, 107.45, 113.33, 118.56, 124.76, 128.64, 135.74, 136.81,\n",
              "       135.82, 139.84, 144.64, 147.49, 151.75])"
            ]
          },
          "metadata": {},
          "execution_count": 63
        }
      ],
      "source": [
        "s = ((np.random.normal(size=21)*5+.5).cumsum()+100).round(2)\n",
        "s"
      ]
    },
    {
      "cell_type": "code",
      "source": [
        "def funt(s,pset):\n",
        "   pnl = []\n",
        "   valor = 0\n",
        "   for i in range(len(s)-1):\n",
        "       if i==len(s):\n",
        "          break\n",
        "       else:\n",
        "           if pset[i] ==0:\n",
        "                valor = np.round((((s[i]-s[i+1])*1)- s[i]*1*0.01),2)\n",
        "           else: valor = np.round((((s[i+1]-s[i])*1)- s[i]*1*0.01),2)\n",
        "           pnl.append(valor)\n",
        "   return np.round(np.sum(pnl),2)   \n"
      ],
      "metadata": {
        "id": "RIE5WutVpCUN"
      },
      "execution_count": null,
      "outputs": []
    },
    {
      "cell_type": "code",
      "execution_count": null,
      "metadata": {
        "id": "ZaPX_kv28Oow"
      },
      "outputs": [],
      "source": [
        "# a 9x20 numpy array\n",
        "pnl =[]\n",
        "pset = np.array([[0,1,1,1,1,0,1,0,0,0,0,0,0,0,0,1,0,0,0,0],\n",
        "                 [0,1,0,0,1,0,1,0,0,0,0,0,0,0,0,1,0,0,0,0],\n",
        "                 [0,1,0,0,0,1,1,0,0,0,0,0,0,0,0,1,0,0,0,0],\n",
        "                 [0,1,0,0,0,1,0,1,0,0,0,0,0,0,0,1,0,0,0,0],\n",
        "                 [0,1,0,0,0,1,0,1,1,1,0,0,0,0,0,1,0,0,0,0],\n",
        "                 [0,1,0,0,0,1,0,1,1,1,1,1,0,0,0,1,0,0,0,0],\n",
        "                 [0,1,0,0,0,1,0,1,1,1,1,1,1,1,0,1,0,0,0,0],\n",
        "                 [0,1,0,0,0,1,0,1,1,1,1,1,1,1,1,0,0,0,0,0],\n",
        "                 [0,1,0,0,0,1,0,1,1,1,1,1,1,1,1,0,1,1,0,0]])\n",
        "\n",
        "for ps in(pset):\n",
        "   pnl.append(funt(s,ps))\n",
        "  \n",
        "# 9 elements numpy array or list\n",
        "#pnl  = "
      ]
    },
    {
      "cell_type": "code",
      "execution_count": null,
      "metadata": {
        "id": "GGQDzVau8Oow"
      },
      "outputs": [],
      "source": []
    },
    {
      "cell_type": "code",
      "execution_count": null,
      "metadata": {
        "id": "ivcEL9Kc8Oow"
      },
      "outputs": [],
      "source": []
    },
    {
      "cell_type": "code",
      "execution_count": null,
      "metadata": {
        "id": "yU6vF4xU8Oow"
      },
      "outputs": [],
      "source": []
    },
    {
      "cell_type": "markdown",
      "metadata": {
        "id": "A_4yaQlG8Oow"
      },
      "source": [
        "**submit your answer**"
      ]
    },
    {
      "cell_type": "code",
      "execution_count": null,
      "metadata": {
        "scrolled": true,
        "id": "ATfze9jv8Oow",
        "colab": {
          "base_uri": "https://localhost:8080/",
          "height": 111
        },
        "outputId": "9eae4ccb-013e-45b4-e8fd-468c3853bfd0"
      },
      "outputs": [
        {
          "output_type": "display_data",
          "data": {
            "text/plain": [
              "<IPython.core.display.HTML object>"
            ],
            "text/html": [
              "\n",
              "                    <b>task_03 submitted.</b> <b><font color=\"blue\">your grade is 5</font></b> \n",
              "                    <p/><pre>----- grader message -------</pre><b>correct</b><pre>----------------------------</pre>\n",
              "                    <p/><p/>\n",
              "                    <div style=\"font-size:10px\"><b>SUBMISSION CODE</b> pzilkTKra93NiYT94fe9gfCEcRW1PKHO5EL9j/uSteBtKOhhHhqC67GRNIqTb/JI18+mBY8AzJ2yJtHE9ya9EbG3pwDjqG3EX9JYie944OSMR3MUx4ajbVeTg/DR0iMF/B3qgWSLB//9XtpUApJ+GLRwDZTTFTbu564w/i2MuIQ=</div>\n",
              "                    "
            ]
          },
          "metadata": {}
        }
      ],
      "source": [
        "student.submit_task(globals(), task_id=\"task_03\");"
      ]
    },
    {
      "cell_type": "code",
      "execution_count": null,
      "metadata": {
        "id": "5a6Qa4eD8Oow"
      },
      "outputs": [],
      "source": []
    },
    {
      "cell_type": "markdown",
      "metadata": {
        "id": "c1QO2RbV8Oow"
      },
      "source": [
        "### understand accuracy vs. PNL\n",
        "\n",
        "- what is the minimum accuracy from which a model might be profitable?\n",
        "- and if the commision changes?"
      ]
    },
    {
      "cell_type": "code",
      "execution_count": null,
      "metadata": {
        "id": "itXmpvyo8Oox",
        "outputId": "20470622-7192-4a18-a86f-c3be034453e9"
      },
      "outputs": [
        {
          "data": {
            "text/plain": [
              "Text(0, 0.5, 'PNL')"
            ]
          },
          "execution_count": 39,
          "metadata": {},
          "output_type": "execute_result"
        },
        {
          "data": {
            "image/png": "[encoded data removed]",
            "text/plain": [
              "<Figure size 432x288 with 1 Axes>"
            ]
          },
          "metadata": {
            "needs_background": "light"
          },
          "output_type": "display_data"
        }
      ],
      "source": [
        " \n",
        "accuracies = np.linspace(.1,.9,9)\n",
        "plt.plot(accuracies, pnl)\n",
        "plt.axhline(0, color=\"black\", lw=2)\n",
        "plt.title(\"ML metric vs. Busines metric\")\n",
        "plt.grid(); plt.xlabel(\"model accuracy\"); plt.ylabel(\"PNL\")\n"
      ]
    },
    {
      "cell_type": "code",
      "execution_count": null,
      "metadata": {
        "id": "ms87auwq8Oox"
      },
      "outputs": [],
      "source": []
    }
  ],
  "metadata": {
    "kernelspec": {
      "display_name": "Python 3",
      "language": "python",
      "name": "python3"
    },
    "language_info": {
      "codemirror_mode": {
        "name": "ipython",
        "version": 3
      },
      "file_extension": ".py",
      "mimetype": "text/x-python",
      "name": "python",
      "nbconvert_exporter": "python",
      "pygments_lexer": "ipython3",
      "version": "3.7.3"
    },
    "colab": {
      "provenance": [],
      "include_colab_link": true
    },
    "widgets": {
      "application/vnd.jupyter.widget-state+json": {
        "d0d185cbab63438682192fb15ecda12a": {
          "model_module": "@jupyter-widgets/controls",
          "model_name": "HBoxModel",
          "model_module_version": "1.5.0",
          "state": {
            "_dom_classes": [],
            "_model_module": "@jupyter-widgets/controls",
            "_model_module_version": "1.5.0",
            "_model_name": "HBoxModel",
            "_view_count": null,
            "_view_module": "@jupyter-widgets/controls",
            "_view_module_version": "1.5.0",
            "_view_name": "HBoxView",
            "box_style": "",
            "children": [
              "IPY_MODEL_d46f6c5e56f64a10a03515ce0f8e2233",
              "IPY_MODEL_7c4b258292cd414596f894730ed13a4e",
              "IPY_MODEL_1be78d5e91d2435dae75aa790966ecd6",
              "IPY_MODEL_a2f9688b0b014a3d8936830ae42f6b9b"
            ],
            "layout": "IPY_MODEL_7f5fb3e566f54818af37b6231d064fea"
          }
        },
        "d46f6c5e56f64a10a03515ce0f8e2233": {
          "model_module": "@jupyter-widgets/controls",
          "model_name": "VBoxModel",
          "model_module_version": "1.5.0",
          "state": {
            "_dom_classes": [],
            "_model_module": "@jupyter-widgets/controls",
            "_model_module_version": "1.5.0",
            "_model_name": "VBoxModel",
            "_view_count": null,
            "_view_module": "@jupyter-widgets/controls",
            "_view_module_version": "1.5.0",
            "_view_name": "VBoxView",
            "box_style": "",
            "children": [
              "IPY_MODEL_b5caa892d08d494d8ba63caf972bfc5e",
              "IPY_MODEL_3813006f188841659f100bce49e14c04"
            ],
            "layout": "IPY_MODEL_aa8ac7ba10fb4ea7947ed75118077587"
          }
        },
        "7c4b258292cd414596f894730ed13a4e": {
          "model_module": "@jupyter-widgets/controls",
          "model_name": "ButtonModel",
          "model_module_version": "1.5.0",
          "state": {
            "_dom_classes": [
              "login_button"
            ],
            "_model_module": "@jupyter-widgets/controls",
            "_model_module_version": "1.5.0",
            "_model_name": "ButtonModel",
            "_view_count": null,
            "_view_module": "@jupyter-widgets/controls",
            "_view_module_version": "1.5.0",
            "_view_name": "ButtonView",
            "button_style": "",
            "description": "Login with email",
            "disabled": false,
            "icon": "",
            "layout": "IPY_MODEL_0ce9c954ab1f49b28a41407840c513e9",
            "style": "IPY_MODEL_5077c9ee7f5c4560805c0697774d2fed",
            "tooltip": ""
          }
        },
        "1be78d5e91d2435dae75aa790966ecd6": {
          "model_module": "@jupyter-widgets/controls",
          "model_name": "HTMLModel",
          "model_module_version": "1.5.0",
          "state": {
            "_dom_classes": [],
            "_model_module": "@jupyter-widgets/controls",
            "_model_module_version": "1.5.0",
            "_model_name": "HTMLModel",
            "_view_count": null,
            "_view_module": "@jupyter-widgets/controls",
            "_view_module_version": "1.5.0",
            "_view_name": "HTMLView",
            "description": "",
            "description_tooltip": null,
            "layout": "IPY_MODEL_a4804866040748ada5318d7e67626fce",
            "placeholder": "​",
            "style": "IPY_MODEL_bee895850a2b47579e3ff0e947cdb2f8",
            "value": "<center><big>or</big></center>"
          }
        },
        "a2f9688b0b014a3d8936830ae42f6b9b": {
          "model_module": "@jupyter-widgets/controls",
          "model_name": "ButtonModel",
          "model_module_version": "1.5.0",
          "state": {
            "_dom_classes": [
              "google_button"
            ],
            "_model_module": "@jupyter-widgets/controls",
            "_model_module_version": "1.5.0",
            "_model_name": "ButtonModel",
            "_view_count": null,
            "_view_module": "@jupyter-widgets/controls",
            "_view_module_version": "1.5.0",
            "_view_name": "ButtonView",
            "button_style": "",
            "description": "Login with Google",
            "disabled": false,
            "icon": "",
            "layout": "IPY_MODEL_8fde6c1de16f47da8fb291f5f9245569",
            "style": "IPY_MODEL_9346dab2f0e94fa387af44e2a8e8552d",
            "tooltip": ""
          }
        },
        "7f5fb3e566f54818af37b6231d064fea": {
          "model_module": "@jupyter-widgets/base",
          "model_name": "LayoutModel",
          "model_module_version": "1.2.0",
          "state": {
            "_model_module": "@jupyter-widgets/base",
            "_model_module_version": "1.2.0",
            "_model_name": "LayoutModel",
            "_view_count": null,
            "_view_module": "@jupyter-widgets/base",
            "_view_module_version": "1.2.0",
            "_view_name": "LayoutView",
            "align_content": null,
            "align_items": null,
            "align_self": null,
            "border": null,
            "bottom": null,
            "display": null,
            "flex": null,
            "flex_flow": null,
            "grid_area": null,
            "grid_auto_columns": null,
            "grid_auto_flow": null,
            "grid_auto_rows": null,
            "grid_column": null,
            "grid_gap": null,
            "grid_row": null,
            "grid_template_areas": null,
            "grid_template_columns": null,
            "grid_template_rows": null,
            "height": null,
            "justify_content": null,
            "justify_items": null,
            "left": null,
            "margin": null,
            "max_height": null,
            "max_width": null,
            "min_height": null,
            "min_width": null,
            "object_fit": null,
            "object_position": null,
            "order": null,
            "overflow": null,
            "overflow_x": null,
            "overflow_y": null,
            "padding": null,
            "right": null,
            "top": null,
            "visibility": null,
            "width": null
          }
        },
        "b5caa892d08d494d8ba63caf972bfc5e": {
          "model_module": "@jupyter-widgets/controls",
          "model_name": "TextModel",
          "model_module_version": "1.5.0",
          "state": {
            "_dom_classes": [],
            "_model_module": "@jupyter-widgets/controls",
            "_model_module_version": "1.5.0",
            "_model_name": "TextModel",
            "_view_count": null,
            "_view_module": "@jupyter-widgets/controls",
            "_view_module_version": "1.5.0",
            "_view_name": "TextView",
            "continuous_update": true,
            "description": "email",
            "description_tooltip": null,
            "disabled": false,
            "layout": "IPY_MODEL_916bdf22065941a9a2ddd27c9a32409b",
            "placeholder": "​",
            "style": "IPY_MODEL_f2808306f26742eebe7de198fc76b49e",
            "value": "omara.torres@udea.edu.co"
          }
        },
        "3813006f188841659f100bce49e14c04": {
          "model_module": "@jupyter-widgets/controls",
          "model_name": "PasswordModel",
          "model_module_version": "1.5.0",
          "state": {
            "_dom_classes": [],
            "_model_module": "@jupyter-widgets/controls",
            "_model_module_version": "1.5.0",
            "_model_name": "PasswordModel",
            "_view_count": null,
            "_view_module": "@jupyter-widgets/controls",
            "_view_module_version": "1.5.0",
            "_view_name": "PasswordView",
            "continuous_update": true,
            "description": "password",
            "description_tooltip": null,
            "disabled": false,
            "layout": "IPY_MODEL_e666b55f50dc4c1baf67ae13726dcf4e",
            "placeholder": "​",
            "style": "IPY_MODEL_87c1af53a50048e0b08fe2f298933a2b",
            "value": "yeveja23"
          }
        },
        "aa8ac7ba10fb4ea7947ed75118077587": {
          "model_module": "@jupyter-widgets/base",
          "model_name": "LayoutModel",
          "model_module_version": "1.2.0",
          "state": {
            "_model_module": "@jupyter-widgets/base",
            "_model_module_version": "1.2.0",
            "_model_name": "LayoutModel",
            "_view_count": null,
            "_view_module": "@jupyter-widgets/base",
            "_view_module_version": "1.2.0",
            "_view_name": "LayoutView",
            "align_content": null,
            "align_items": null,
            "align_self": null,
            "border": null,
            "bottom": null,
            "display": null,
            "flex": null,
            "flex_flow": null,
            "grid_area": null,
            "grid_auto_columns": null,
            "grid_auto_flow": null,
            "grid_auto_rows": null,
            "grid_column": null,
            "grid_gap": null,
            "grid_row": null,
            "grid_template_areas": null,
            "grid_template_columns": null,
            "grid_template_rows": null,
            "height": null,
            "justify_content": null,
            "justify_items": null,
            "left": null,
            "margin": null,
            "max_height": null,
            "max_width": null,
            "min_height": null,
            "min_width": null,
            "object_fit": null,
            "object_position": null,
            "order": null,
            "overflow": null,
            "overflow_x": null,
            "overflow_y": null,
            "padding": null,
            "right": null,
            "top": null,
            "visibility": null,
            "width": null
          }
        },
        "0ce9c954ab1f49b28a41407840c513e9": {
          "model_module": "@jupyter-widgets/base",
          "model_name": "LayoutModel",
          "model_module_version": "1.2.0",
          "state": {
            "_model_module": "@jupyter-widgets/base",
            "_model_module_version": "1.2.0",
            "_model_name": "LayoutModel",
            "_view_count": null,
            "_view_module": "@jupyter-widgets/base",
            "_view_module_version": "1.2.0",
            "_view_name": "LayoutView",
            "align_content": null,
            "align_items": null,
            "align_self": null,
            "border": null,
            "bottom": null,
            "display": null,
            "flex": null,
            "flex_flow": null,
            "grid_area": null,
            "grid_auto_columns": null,
            "grid_auto_flow": null,
            "grid_auto_rows": null,
            "grid_column": null,
            "grid_gap": null,
            "grid_row": null,
            "grid_template_areas": null,
            "grid_template_columns": null,
            "grid_template_rows": null,
            "height": "53px",
            "justify_content": null,
            "justify_items": null,
            "left": null,
            "margin": null,
            "max_height": null,
            "max_width": null,
            "min_height": null,
            "min_width": null,
            "object_fit": null,
            "object_position": null,
            "order": null,
            "overflow": null,
            "overflow_x": null,
            "overflow_y": null,
            "padding": null,
            "right": null,
            "top": null,
            "visibility": null,
            "width": "150px"
          }
        },
        "5077c9ee7f5c4560805c0697774d2fed": {
          "model_module": "@jupyter-widgets/controls",
          "model_name": "ButtonStyleModel",
          "model_module_version": "1.5.0",
          "state": {
            "_model_module": "@jupyter-widgets/controls",
            "_model_module_version": "1.5.0",
            "_model_name": "ButtonStyleModel",
            "_view_count": null,
            "_view_module": "@jupyter-widgets/base",
            "_view_module_version": "1.2.0",
            "_view_name": "StyleView",
            "button_color": null,
            "font_weight": ""
          }
        },
        "a4804866040748ada5318d7e67626fce": {
          "model_module": "@jupyter-widgets/base",
          "model_name": "LayoutModel",
          "model_module_version": "1.2.0",
          "state": {
            "_model_module": "@jupyter-widgets/base",
            "_model_module_version": "1.2.0",
            "_model_name": "LayoutModel",
            "_view_count": null,
            "_view_module": "@jupyter-widgets/base",
            "_view_module_version": "1.2.0",
            "_view_name": "LayoutView",
            "align_content": null,
            "align_items": null,
            "align_self": null,
            "border": null,
            "bottom": null,
            "display": null,
            "flex": null,
            "flex_flow": null,
            "grid_area": null,
            "grid_auto_columns": null,
            "grid_auto_flow": null,
            "grid_auto_rows": null,
            "grid_column": null,
            "grid_gap": null,
            "grid_row": null,
            "grid_template_areas": null,
            "grid_template_columns": null,
            "grid_template_rows": null,
            "height": null,
            "justify_content": null,
            "justify_items": null,
            "left": null,
            "margin": null,
            "max_height": null,
            "max_width": null,
            "min_height": null,
            "min_width": null,
            "object_fit": null,
            "object_position": null,
            "order": null,
            "overflow": null,
            "overflow_x": null,
            "overflow_y": null,
            "padding": null,
            "right": null,
            "top": null,
            "visibility": null,
            "width": "100px"
          }
        },
        "bee895850a2b47579e3ff0e947cdb2f8": {
          "model_module": "@jupyter-widgets/controls",
          "model_name": "DescriptionStyleModel",
          "model_module_version": "1.5.0",
          "state": {
            "_model_module": "@jupyter-widgets/controls",
            "_model_module_version": "1.5.0",
            "_model_name": "DescriptionStyleModel",
            "_view_count": null,
            "_view_module": "@jupyter-widgets/base",
            "_view_module_version": "1.2.0",
            "_view_name": "StyleView",
            "description_width": ""
          }
        },
        "8fde6c1de16f47da8fb291f5f9245569": {
          "model_module": "@jupyter-widgets/base",
          "model_name": "LayoutModel",
          "model_module_version": "1.2.0",
          "state": {
            "_model_module": "@jupyter-widgets/base",
            "_model_module_version": "1.2.0",
            "_model_name": "LayoutModel",
            "_view_count": null,
            "_view_module": "@jupyter-widgets/base",
            "_view_module_version": "1.2.0",
            "_view_name": "LayoutView",
            "align_content": null,
            "align_items": null,
            "align_self": null,
            "border": null,
            "bottom": null,
            "display": null,
            "flex": null,
            "flex_flow": null,
            "grid_area": null,
            "grid_auto_columns": null,
            "grid_auto_flow": null,
            "grid_auto_rows": null,
            "grid_column": null,
            "grid_gap": null,
            "grid_row": null,
            "grid_template_areas": null,
            "grid_template_columns": null,
            "grid_template_rows": null,
            "height": "53px",
            "justify_content": null,
            "justify_items": null,
            "left": null,
            "margin": null,
            "max_height": null,
            "max_width": null,
            "min_height": null,
            "min_width": null,
            "object_fit": null,
            "object_position": null,
            "order": null,
            "overflow": null,
            "overflow_x": null,
            "overflow_y": null,
            "padding": null,
            "right": null,
            "top": null,
            "visibility": null,
            "width": "200px"
          }
        },
        "9346dab2f0e94fa387af44e2a8e8552d": {
          "model_module": "@jupyter-widgets/controls",
          "model_name": "ButtonStyleModel",
          "model_module_version": "1.5.0",
          "state": {
            "_model_module": "@jupyter-widgets/controls",
            "_model_module_version": "1.5.0",
            "_model_name": "ButtonStyleModel",
            "_view_count": null,
            "_view_module": "@jupyter-widgets/base",
            "_view_module_version": "1.2.0",
            "_view_name": "StyleView",
            "button_color": null,
            "font_weight": ""
          }
        },
        "916bdf22065941a9a2ddd27c9a32409b": {
          "model_module": "@jupyter-widgets/base",
          "model_name": "LayoutModel",
          "model_module_version": "1.2.0",
          "state": {
            "_model_module": "@jupyter-widgets/base",
            "_model_module_version": "1.2.0",
            "_model_name": "LayoutModel",
            "_view_count": null,
            "_view_module": "@jupyter-widgets/base",
            "_view_module_version": "1.2.0",
            "_view_name": "LayoutView",
            "align_content": null,
            "align_items": null,
            "align_self": null,
            "border": null,
            "bottom": null,
            "display": null,
            "flex": null,
            "flex_flow": null,
            "grid_area": null,
            "grid_auto_columns": null,
            "grid_auto_flow": null,
            "grid_auto_rows": null,
            "grid_column": null,
            "grid_gap": null,
            "grid_row": null,
            "grid_template_areas": null,
            "grid_template_columns": null,
            "grid_template_rows": null,
            "height": "25px",
            "justify_content": null,
            "justify_items": null,
            "left": null,
            "margin": null,
            "max_height": null,
            "max_width": null,
            "min_height": null,
            "min_width": null,
            "object_fit": null,
            "object_position": null,
            "order": null,
            "overflow": null,
            "overflow_x": null,
            "overflow_y": null,
            "padding": null,
            "right": null,
            "top": null,
            "visibility": null,
            "width": "300px"
          }
        },
        "f2808306f26742eebe7de198fc76b49e": {
          "model_module": "@jupyter-widgets/controls",
          "model_name": "DescriptionStyleModel",
          "model_module_version": "1.5.0",
          "state": {
            "_model_module": "@jupyter-widgets/controls",
            "_model_module_version": "1.5.0",
            "_model_name": "DescriptionStyleModel",
            "_view_count": null,
            "_view_module": "@jupyter-widgets/base",
            "_view_module_version": "1.2.0",
            "_view_name": "StyleView",
            "description_width": ""
          }
        },
        "e666b55f50dc4c1baf67ae13726dcf4e": {
          "model_module": "@jupyter-widgets/base",
          "model_name": "LayoutModel",
          "model_module_version": "1.2.0",
          "state": {
            "_model_module": "@jupyter-widgets/base",
            "_model_module_version": "1.2.0",
            "_model_name": "LayoutModel",
            "_view_count": null,
            "_view_module": "@jupyter-widgets/base",
            "_view_module_version": "1.2.0",
            "_view_name": "LayoutView",
            "align_content": null,
            "align_items": null,
            "align_self": null,
            "border": null,
            "bottom": null,
            "display": null,
            "flex": null,
            "flex_flow": null,
            "grid_area": null,
            "grid_auto_columns": null,
            "grid_auto_flow": null,
            "grid_auto_rows": null,
            "grid_column": null,
            "grid_gap": null,
            "grid_row": null,
            "grid_template_areas": null,
            "grid_template_columns": null,
            "grid_template_rows": null,
            "height": "24px",
            "justify_content": null,
            "justify_items": null,
            "left": null,
            "margin": null,
            "max_height": null,
            "max_width": null,
            "min_height": null,
            "min_width": null,
            "object_fit": null,
            "object_position": null,
            "order": null,
            "overflow": null,
            "overflow_x": null,
            "overflow_y": null,
            "padding": null,
            "right": null,
            "top": null,
            "visibility": null,
            "width": "300px"
          }
        },
        "87c1af53a50048e0b08fe2f298933a2b": {
          "model_module": "@jupyter-widgets/controls",
          "model_name": "DescriptionStyleModel",
          "model_module_version": "1.5.0",
          "state": {
            "_model_module": "@jupyter-widgets/controls",
            "_model_module_version": "1.5.0",
            "_model_name": "DescriptionStyleModel",
            "_view_count": null,
            "_view_module": "@jupyter-widgets/base",
            "_view_module_version": "1.2.0",
            "_view_name": "StyleView",
            "description_width": ""
          }
        }
      }
    }
  },
  "nbformat": 4,
  "nbformat_minor": 0
}